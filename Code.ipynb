{
  "cells": [
    {
      "cell_type": "markdown",
      "metadata": {
        "id": "CChhAUipVAgj"
      },
      "source": [
        "# Iris Dataset"
      ]
    },
    {
      "cell_type": "markdown",
      "metadata": {
        "id": "sWixHVCuVIA6"
      },
      "source": [
        "- Import libraries"
      ]
    },
    {
      "cell_type": "code",
      "execution_count": 6,
      "metadata": {
        "id": "V9oUwGxFVD4x"
      },
      "outputs": [],
      "source": [
        "from sklearn.datasets import load_iris\n",
        "from sklearn.model_selection import train_test_split\n",
        "from sklearn.neighbors import KNeighborsClassifier\n",
        "from sklearn.svm import SVC\n",
        "from sklearn.neural_network import MLPClassifier\n",
        "from sklearn.metrics import accuracy_score, classification_report, confusion_matrix\n",
        "import matplotlib.pyplot as plt"
      ]
    },
    {
      "cell_type": "markdown",
      "metadata": {
        "id": "981iV58FVMvO"
      },
      "source": [
        "- Load Dataset"
      ]
    },
    {
      "cell_type": "code",
      "execution_count": null,
      "metadata": {
        "id": "n1dwmYhvVN4w"
      },
      "outputs": [],
      "source": [
        "data = load_iris()\n",
        "X = data.data\n",
        "y = data.target"
      ]
    },
    {
      "cell_type": "markdown",
      "metadata": {
        "id": "Il_dgFsJHyzr"
      },
      "source": [
        "- Check the balancement of the dataset"
      ]
    },
    {
      "cell_type": "code",
      "execution_count": null,
      "metadata": {
        "colab": {
          "base_uri": "https://localhost:8080/",
          "height": 576
        },
        "id": "6c4e3163",
        "outputId": "f03a90b9-763f-40e7-b22c-2a356ef7bf75"
      },
      "outputs": [
        {
          "output_type": "stream",
          "name": "stdout",
          "text": [
            "Class distribution in Iris dataset:\n",
            "Class\n",
            "0    50\n",
            "1    50\n",
            "2    50\n",
            "Name: count, dtype: int64\n"
          ]
        },
        {
          "output_type": "display_data",
          "data": {
            "text/plain": [
              "<Figure size 640x480 with 1 Axes>"
            ],
            "image/png": "[encoded data removed]"
          },
          "metadata": {}
        }
      ],
      "source": [
        "import pandas as pd\n",
        "\n",
        "y_series = pd.Series(y, name=\"Class\")\n",
        "\n",
        "class_counts = y_series.value_counts()\n",
        "\n",
        "print(\"Class distribution in Iris dataset:\")\n",
        "print(class_counts)\n",
        "\n",
        "class_counts.plot(kind='bar')\n",
        "plt.title('Distribution of Iris Classes')\n",
        "plt.xlabel('Class')\n",
        "plt.ylabel('Number of Samples')\n",
        "plt.xticks(ticks=[0, 1, 2], labels=data.target_names, rotation=0)\n",
        "plt.show()"
      ]
    },
    {
      "cell_type": "markdown",
      "metadata": {
        "id": "DQmMBiUzVT_k"
      },
      "source": [
        "- Train and Test split (80%,20%)"
      ]
    },
    {
      "cell_type": "code",
      "execution_count": null,
      "metadata": {
        "id": "tghSSuleVV7C"
      },
      "outputs": [],
      "source": [
        "X_train, X_test, y_train, y_test = train_test_split(X, y, test_size=0.2, random_state=42)"
      ]
    },
    {
      "cell_type": "markdown",
      "metadata": {
        "id": "DeDKYkhMV419"
      },
      "source": [
        "## KNN"
      ]
    },
    {
      "cell_type": "markdown",
      "metadata": {
        "id": "tzmToep8V9qh"
      },
      "source": [
        "### With three neighbors"
      ]
    },
    {
      "cell_type": "markdown",
      "metadata": {
        "id": "KUH8UAlKrg4Y"
      },
      "source": [
        "- With weights='auto'"
      ]
    },
    {
      "cell_type": "code",
      "execution_count": null,
      "metadata": {
        "colab": {
          "base_uri": "https://localhost:8080/"
        },
        "id": "h73gPJQgV6rr",
        "outputId": "c7c6e80f-38e3-4bcf-e14d-e2208a6f272e"
      },
      "outputs": [
        {
          "output_type": "stream",
          "name": "stdout",
          "text": [
            "KNN Accuracy: 1.0\n",
            "              precision    recall  f1-score   support\n",
            "\n",
            "      setosa       1.00      1.00      1.00        10\n",
            "  versicolor       1.00      1.00      1.00         9\n",
            "   virginica       1.00      1.00      1.00        11\n",
            "\n",
            "    accuracy                           1.00        30\n",
            "   macro avg       1.00      1.00      1.00        30\n",
            "weighted avg       1.00      1.00      1.00        30\n",
            "\n"
          ]
        }
      ],
      "source": [
        "knn = KNeighborsClassifier(n_neighbors=3)\n",
        "knn.fit(X_train, y_train)\n",
        "knn_predictions = knn.predict(X_test)\n",
        "knn_accuracy = accuracy_score(y_test, knn_predictions)\n",
        "print('KNN Accuracy:', knn_accuracy)\n",
        "print(classification_report(y_test, knn_predictions, target_names=data.target_names))"
      ]
    },
    {
      "cell_type": "markdown",
      "metadata": {
        "id": "GpUNkPDBWRlh"
      },
      "source": [
        "- Confusion Matrix"
      ]
    },
    {
      "cell_type": "code",
      "execution_count": null,
      "metadata": {
        "colab": {
          "base_uri": "https://localhost:8080/"
        },
        "id": "pe1MrpCWWUHR",
        "outputId": "4d4dd8ed-402b-444b-b41e-3e71160b2c3b"
      },
      "outputs": [
        {
          "output_type": "execute_result",
          "data": {
            "text/plain": [
              "array([[10,  0,  0],\n",
              "       [ 0,  9,  0],\n",
              "       [ 0,  0, 11]])"
            ]
          },
          "metadata": {},
          "execution_count": 37
        }
      ],
      "source": [
        "confusion_matrix(y_test,knn_predictions)"
      ]
    },
    {
      "cell_type": "markdown",
      "metadata": {
        "id": "3phFcikFro7K"
      },
      "source": [
        "- With weights='distance'"
      ]
    },
    {
      "cell_type": "code",
      "execution_count": null,
      "metadata": {
        "colab": {
          "base_uri": "https://localhost:8080/"
        },
        "id": "0UVrl_9JrnjH",
        "outputId": "df2b97d0-bdc3-47ac-f7f0-359c6efff649"
      },
      "outputs": [
        {
          "output_type": "stream",
          "name": "stdout",
          "text": [
            "KNN Accuracy: 1.0\n",
            "              precision    recall  f1-score   support\n",
            "\n",
            "      setosa       1.00      1.00      1.00        10\n",
            "  versicolor       1.00      1.00      1.00         9\n",
            "   virginica       1.00      1.00      1.00        11\n",
            "\n",
            "    accuracy                           1.00        30\n",
            "   macro avg       1.00      1.00      1.00        30\n",
            "weighted avg       1.00      1.00      1.00        30\n",
            "\n"
          ]
        }
      ],
      "source": [
        "knn = KNeighborsClassifier(n_neighbors=3,weights='distance')\n",
        "knn.fit(X_train, y_train)\n",
        "knn_predictions = knn.predict(X_test)\n",
        "knn_accuracy = accuracy_score(y_test, knn_predictions)\n",
        "print('KNN Accuracy:', knn_accuracy)\n",
        "print(classification_report(y_test, knn_predictions, target_names=data.target_names))"
      ]
    },
    {
      "cell_type": "markdown",
      "metadata": {
        "id": "NjdRzsjTruGU"
      },
      "source": [
        "- Confusion Matrix"
      ]
    },
    {
      "cell_type": "code",
      "execution_count": null,
      "metadata": {
        "colab": {
          "base_uri": "https://localhost:8080/"
        },
        "id": "96KkOCjqrwmB",
        "outputId": "a5411617-fbb5-444b-ab37-8326ce3eadb1"
      },
      "outputs": [
        {
          "output_type": "execute_result",
          "data": {
            "text/plain": [
              "array([[10,  0,  0],\n",
              "       [ 0,  9,  0],\n",
              "       [ 0,  0, 11]])"
            ]
          },
          "metadata": {},
          "execution_count": 39
        }
      ],
      "source": [
        "confusion_matrix(y_test,knn_predictions)"
      ]
    },
    {
      "cell_type": "markdown",
      "metadata": {
        "id": "ClKAlufzWDaS"
      },
      "source": [
        "### With five neighbors"
      ]
    },
    {
      "cell_type": "markdown",
      "metadata": {
        "id": "lMYAuA8srybD"
      },
      "source": [
        "- With weights='auto'"
      ]
    },
    {
      "cell_type": "code",
      "execution_count": null,
      "metadata": {
        "colab": {
          "base_uri": "https://localhost:8080/"
        },
        "id": "TDoUY7SiWFdh",
        "outputId": "75e2d84b-0f32-4f0d-c53c-caa6506d3156"
      },
      "outputs": [
        {
          "output_type": "stream",
          "name": "stdout",
          "text": [
            "KNN Accuracy: 1.0\n",
            "              precision    recall  f1-score   support\n",
            "\n",
            "      setosa       1.00      1.00      1.00        10\n",
            "  versicolor       1.00      1.00      1.00         9\n",
            "   virginica       1.00      1.00      1.00        11\n",
            "\n",
            "    accuracy                           1.00        30\n",
            "   macro avg       1.00      1.00      1.00        30\n",
            "weighted avg       1.00      1.00      1.00        30\n",
            "\n"
          ]
        }
      ],
      "source": [
        "knn = KNeighborsClassifier(n_neighbors=5)\n",
        "knn.fit(X_train, y_train)\n",
        "knn_predictions = knn.predict(X_test)\n",
        "knn_accuracy = accuracy_score(y_test, knn_predictions)\n",
        "print('KNN Accuracy:', knn_accuracy)\n",
        "print(classification_report(y_test, knn_predictions, target_names=data.target_names))"
      ]
    },
    {
      "cell_type": "markdown",
      "metadata": {
        "id": "Bz55u11EW-sD"
      },
      "source": [
        "- Confusion Matrix"
      ]
    },
    {
      "cell_type": "code",
      "execution_count": null,
      "metadata": {
        "colab": {
          "base_uri": "https://localhost:8080/"
        },
        "id": "X0fTVGL0XAux",
        "outputId": "597c53bc-4ed3-42c8-c8c5-38a59bff3ca1"
      },
      "outputs": [
        {
          "output_type": "execute_result",
          "data": {
            "text/plain": [
              "array([[10,  0,  0],\n",
              "       [ 0,  9,  0],\n",
              "       [ 0,  0, 11]])"
            ]
          },
          "metadata": {},
          "execution_count": 41
        }
      ],
      "source": [
        "confusion_matrix(y_test,knn_predictions)"
      ]
    },
    {
      "cell_type": "markdown",
      "metadata": {
        "id": "rcd7EEpUr5sq"
      },
      "source": [
        "- With weights='distance'"
      ]
    },
    {
      "cell_type": "code",
      "execution_count": null,
      "metadata": {
        "colab": {
          "base_uri": "https://localhost:8080/"
        },
        "id": "0wH8hHDYr44O",
        "outputId": "9ed7e1f4-604a-4b3d-c452-3fbd74ca44b4"
      },
      "outputs": [
        {
          "output_type": "stream",
          "name": "stdout",
          "text": [
            "KNN Accuracy: 1.0\n",
            "              precision    recall  f1-score   support\n",
            "\n",
            "      setosa       1.00      1.00      1.00        10\n",
            "  versicolor       1.00      1.00      1.00         9\n",
            "   virginica       1.00      1.00      1.00        11\n",
            "\n",
            "    accuracy                           1.00        30\n",
            "   macro avg       1.00      1.00      1.00        30\n",
            "weighted avg       1.00      1.00      1.00        30\n",
            "\n"
          ]
        }
      ],
      "source": [
        "knn = KNeighborsClassifier(n_neighbors=5,weights='distance')\n",
        "knn.fit(X_train, y_train)\n",
        "knn_predictions = knn.predict(X_test)\n",
        "knn_accuracy = accuracy_score(y_test, knn_predictions)\n",
        "print('KNN Accuracy:', knn_accuracy)\n",
        "print(classification_report(y_test, knn_predictions, target_names=data.target_names))"
      ]
    },
    {
      "cell_type": "markdown",
      "metadata": {
        "id": "amCaBurFr_cR"
      },
      "source": [
        "- Confusion Matrix"
      ]
    },
    {
      "cell_type": "code",
      "execution_count": null,
      "metadata": {
        "colab": {
          "base_uri": "https://localhost:8080/"
        },
        "id": "XjGylIU1sCcY",
        "outputId": "2b7e4080-795c-46de-8bbe-4748f45102f1"
      },
      "outputs": [
        {
          "output_type": "execute_result",
          "data": {
            "text/plain": [
              "array([[10,  0,  0],\n",
              "       [ 0,  9,  0],\n",
              "       [ 0,  0, 11]])"
            ]
          },
          "metadata": {},
          "execution_count": 43
        }
      ],
      "source": [
        "confusion_matrix(y_test,knn_predictions)"
      ]
    },
    {
      "cell_type": "markdown",
      "metadata": {
        "id": "dvTFxOcCqt2t"
      },
      "source": [
        "### With seven neighbors"
      ]
    },
    {
      "cell_type": "markdown",
      "metadata": {
        "id": "kReB356OsGpX"
      },
      "source": [
        "- With weights='auto'"
      ]
    },
    {
      "cell_type": "code",
      "execution_count": null,
      "metadata": {
        "colab": {
          "base_uri": "https://localhost:8080/"
        },
        "id": "J9ocJpdVqzD3",
        "outputId": "bd2ba78e-bd4c-4920-8a87-c60e55376cd1"
      },
      "outputs": [
        {
          "output_type": "stream",
          "name": "stdout",
          "text": [
            "KNN Accuracy: 0.9666666666666667\n",
            "              precision    recall  f1-score   support\n",
            "\n",
            "      setosa       1.00      1.00      1.00        10\n",
            "  versicolor       1.00      0.89      0.94         9\n",
            "   virginica       0.92      1.00      0.96        11\n",
            "\n",
            "    accuracy                           0.97        30\n",
            "   macro avg       0.97      0.96      0.97        30\n",
            "weighted avg       0.97      0.97      0.97        30\n",
            "\n"
          ]
        }
      ],
      "source": [
        "knn = KNeighborsClassifier(n_neighbors=7)\n",
        "knn.fit(X_train, y_train)\n",
        "knn_predictions = knn.predict(X_test)\n",
        "knn_accuracy = accuracy_score(y_test, knn_predictions)\n",
        "print('KNN Accuracy:', knn_accuracy)\n",
        "print(classification_report(y_test, knn_predictions, target_names=data.target_names))"
      ]
    },
    {
      "cell_type": "markdown",
      "metadata": {
        "id": "3mt1NpaHq2fJ"
      },
      "source": [
        "- Confusion Matrix"
      ]
    },
    {
      "cell_type": "code",
      "execution_count": null,
      "metadata": {
        "colab": {
          "base_uri": "https://localhost:8080/"
        },
        "id": "xeIhD0j-q4H1",
        "outputId": "b31de2b3-9a5b-4366-e462-d424c779d670"
      },
      "outputs": [
        {
          "output_type": "execute_result",
          "data": {
            "text/plain": [
              "array([[10,  0,  0],\n",
              "       [ 0,  8,  1],\n",
              "       [ 0,  0, 11]])"
            ]
          },
          "metadata": {},
          "execution_count": 45
        }
      ],
      "source": [
        "confusion_matrix(y_test,knn_predictions)"
      ]
    },
    {
      "cell_type": "markdown",
      "metadata": {
        "id": "uA-mDd7RsLnT"
      },
      "source": [
        "- With weights='distance'"
      ]
    },
    {
      "cell_type": "code",
      "execution_count": null,
      "metadata": {
        "colab": {
          "base_uri": "https://localhost:8080/"
        },
        "id": "wgw0-Z-6sRUX",
        "outputId": "68c8e59e-92a8-4a89-c342-17e19864df05"
      },
      "outputs": [
        {
          "output_type": "stream",
          "name": "stdout",
          "text": [
            "KNN Accuracy: 1.0\n",
            "              precision    recall  f1-score   support\n",
            "\n",
            "      setosa       1.00      1.00      1.00        10\n",
            "  versicolor       1.00      1.00      1.00         9\n",
            "   virginica       1.00      1.00      1.00        11\n",
            "\n",
            "    accuracy                           1.00        30\n",
            "   macro avg       1.00      1.00      1.00        30\n",
            "weighted avg       1.00      1.00      1.00        30\n",
            "\n"
          ]
        }
      ],
      "source": [
        "knn = KNeighborsClassifier(n_neighbors=7,weights='distance')\n",
        "knn.fit(X_train, y_train)\n",
        "knn_predictions = knn.predict(X_test)\n",
        "knn_accuracy = accuracy_score(y_test, knn_predictions)\n",
        "print('KNN Accuracy:', knn_accuracy)\n",
        "print(classification_report(y_test, knn_predictions, target_names=data.target_names))"
      ]
    },
    {
      "cell_type": "markdown",
      "metadata": {
        "id": "ieU2EBVTsVYk"
      },
      "source": [
        "- Confusion Matrix"
      ]
    },
    {
      "cell_type": "code",
      "execution_count": null,
      "metadata": {
        "colab": {
          "base_uri": "https://localhost:8080/"
        },
        "id": "N-C7705EsXxU",
        "outputId": "b42226d7-0e6e-43bf-b8cb-82b3cf434ba6"
      },
      "outputs": [
        {
          "output_type": "execute_result",
          "data": {
            "text/plain": [
              "array([[10,  0,  0],\n",
              "       [ 0,  9,  0],\n",
              "       [ 0,  0, 11]])"
            ]
          },
          "metadata": {},
          "execution_count": 47
        }
      ],
      "source": [
        "confusion_matrix(y_test,knn_predictions)"
      ]
    },
    {
      "cell_type": "markdown",
      "metadata": {
        "id": "U9X90W0VXIDR"
      },
      "source": [
        "## SVM"
      ]
    },
    {
      "cell_type": "markdown",
      "metadata": {
        "id": "I16o5GoVXWin"
      },
      "source": [
        "### Linear Kernel"
      ]
    },
    {
      "cell_type": "markdown",
      "metadata": {
        "id": "Fcu1f8qm1ds0"
      },
      "source": [
        "- With C=0.1"
      ]
    },
    {
      "cell_type": "code",
      "execution_count": null,
      "metadata": {
        "colab": {
          "base_uri": "https://localhost:8080/"
        },
        "id": "QKkp4g7EXNK7",
        "outputId": "272e77a4-1c0b-4c88-8ca9-6f7593bc1192"
      },
      "outputs": [
        {
          "output_type": "stream",
          "name": "stdout",
          "text": [
            "SVM Accuracy: 1.0\n",
            "              precision    recall  f1-score   support\n",
            "\n",
            "      setosa       1.00      1.00      1.00        10\n",
            "  versicolor       1.00      1.00      1.00         9\n",
            "   virginica       1.00      1.00      1.00        11\n",
            "\n",
            "    accuracy                           1.00        30\n",
            "   macro avg       1.00      1.00      1.00        30\n",
            "weighted avg       1.00      1.00      1.00        30\n",
            "\n"
          ]
        }
      ],
      "source": [
        "svm = SVC(kernel='linear',C=0.1,random_state=42)\n",
        "svm.fit(X_train, y_train)\n",
        "svm_predictions = svm.predict(X_test)\n",
        "svm_accuracy = accuracy_score(y_test, svm_predictions)\n",
        "print('SVM Accuracy:', svm_accuracy)\n",
        "print(classification_report(y_test, svm_predictions, target_names=data.target_names))"
      ]
    },
    {
      "cell_type": "markdown",
      "metadata": {
        "id": "F-M5fr6WXYry"
      },
      "source": [
        "- Confusion Matrix"
      ]
    },
    {
      "cell_type": "code",
      "execution_count": null,
      "metadata": {
        "colab": {
          "base_uri": "https://localhost:8080/"
        },
        "id": "ov-JH0xsXaxC",
        "outputId": "3a349f7f-63e2-4298-f187-839d3a2d2c17"
      },
      "outputs": [
        {
          "output_type": "execute_result",
          "data": {
            "text/plain": [
              "array([[10,  0,  0],\n",
              "       [ 0,  9,  0],\n",
              "       [ 0,  0, 11]])"
            ]
          },
          "metadata": {},
          "execution_count": 49
        }
      ],
      "source": [
        "confusion_matrix(y_test,svm_predictions)"
      ]
    },
    {
      "cell_type": "markdown",
      "metadata": {
        "id": "QjmmoojFZyH-"
      },
      "source": [
        "- Plot"
      ]
    },
    {
      "cell_type": "code",
      "execution_count": null,
      "metadata": {
        "colab": {
          "base_uri": "https://localhost:8080/",
          "height": 564
        },
        "id": "v6P3oUlAZz_L",
        "outputId": "653a1a7a-309f-42f8-e942-3080205becb3"
      },
      "outputs": [
        {
          "output_type": "display_data",
          "data": {
            "text/plain": [
              "<Figure size 800x600 with 1 Axes>"
            ],
            "image/png": "[encoded data removed]"
          },
          "metadata": {}
        }
      ],
      "source": [
        "plt.figure(figsize=(8, 6))\n",
        "scatter = plt.scatter(X_test[:, 1], X_test[:, 2], c=svm_predictions)\n",
        "plt.title('SVM (Linear Kernel) Classification Results on Iris Test Set')\n",
        "plt.xlabel(data.feature_names[0])\n",
        "plt.ylabel(data.feature_names[1])\n",
        "plt.show()"
      ]
    },
    {
      "cell_type": "markdown",
      "metadata": {
        "id": "4Ldu1cNl1yzO"
      },
      "source": [
        "- With C=1"
      ]
    },
    {
      "cell_type": "code",
      "execution_count": null,
      "metadata": {
        "colab": {
          "base_uri": "https://localhost:8080/"
        },
        "id": "Qh4EIy1Z12__",
        "outputId": "71b81d1d-8418-491b-fabe-5abfb51b8ff6"
      },
      "outputs": [
        {
          "output_type": "stream",
          "name": "stdout",
          "text": [
            "SVM Accuracy: 1.0\n",
            "              precision    recall  f1-score   support\n",
            "\n",
            "      setosa       1.00      1.00      1.00        10\n",
            "  versicolor       1.00      1.00      1.00         9\n",
            "   virginica       1.00      1.00      1.00        11\n",
            "\n",
            "    accuracy                           1.00        30\n",
            "   macro avg       1.00      1.00      1.00        30\n",
            "weighted avg       1.00      1.00      1.00        30\n",
            "\n"
          ]
        }
      ],
      "source": [
        "svm = SVC(kernel='linear',C=1,random_state=42)\n",
        "svm.fit(X_train, y_train)\n",
        "svm_predictions = svm.predict(X_test)\n",
        "svm_accuracy = accuracy_score(y_test, svm_predictions)\n",
        "print('SVM Accuracy:', svm_accuracy)\n",
        "print(classification_report(y_test, svm_predictions, target_names=data.target_names))"
      ]
    },
    {
      "cell_type": "markdown",
      "metadata": {
        "id": "ivY622_616vi"
      },
      "source": [
        "- Confusion Matrix"
      ]
    },
    {
      "cell_type": "code",
      "execution_count": null,
      "metadata": {
        "colab": {
          "base_uri": "https://localhost:8080/"
        },
        "id": "TvKAVN8h16TK",
        "outputId": "704fcf83-2552-4bcc-b937-f056896433b8"
      },
      "outputs": [
        {
          "output_type": "execute_result",
          "data": {
            "text/plain": [
              "array([[10,  0,  0],\n",
              "       [ 0,  9,  0],\n",
              "       [ 0,  0, 11]])"
            ]
          },
          "metadata": {},
          "execution_count": 52
        }
      ],
      "source": [
        "confusion_matrix(y_test,svm_predictions)"
      ]
    },
    {
      "cell_type": "markdown",
      "metadata": {
        "id": "vt_GsOUQ1-qG"
      },
      "source": [
        "### RBF Kernel"
      ]
    },
    {
      "cell_type": "markdown",
      "metadata": {
        "id": "K5ld5WL82EuS"
      },
      "source": [
        "- With C=0.1 and gamma=0.5"
      ]
    },
    {
      "cell_type": "code",
      "execution_count": null,
      "metadata": {
        "colab": {
          "base_uri": "https://localhost:8080/"
        },
        "id": "_i3wc58M2CCv",
        "outputId": "18d32334-f76f-465b-ad0c-8850b02ea3d2"
      },
      "outputs": [
        {
          "output_type": "stream",
          "name": "stdout",
          "text": [
            "SVM Accuracy: 1.0\n",
            "              precision    recall  f1-score   support\n",
            "\n",
            "      setosa       1.00      1.00      1.00        10\n",
            "  versicolor       1.00      1.00      1.00         9\n",
            "   virginica       1.00      1.00      1.00        11\n",
            "\n",
            "    accuracy                           1.00        30\n",
            "   macro avg       1.00      1.00      1.00        30\n",
            "weighted avg       1.00      1.00      1.00        30\n",
            "\n"
          ]
        }
      ],
      "source": [
        "svm = SVC(kernel='rbf',C=0.1,gamma=0.5,random_state=42)\n",
        "svm.fit(X_train, y_train)\n",
        "svm_predictions = svm.predict(X_test)\n",
        "svm_accuracy = accuracy_score(y_test, svm_predictions)\n",
        "print('SVM Accuracy:', svm_accuracy)\n",
        "print(classification_report(y_test, svm_predictions, target_names=data.target_names))"
      ]
    },
    {
      "cell_type": "markdown",
      "metadata": {
        "id": "TgLqir832TQA"
      },
      "source": [
        "- Confusion Matrix"
      ]
    },
    {
      "cell_type": "code",
      "execution_count": null,
      "metadata": {
        "colab": {
          "base_uri": "https://localhost:8080/"
        },
        "id": "8bWfizfw2VXR",
        "outputId": "6d72c69b-2830-4f89-e539-0785b8e32334"
      },
      "outputs": [
        {
          "output_type": "execute_result",
          "data": {
            "text/plain": [
              "array([[10,  0,  0],\n",
              "       [ 0,  9,  0],\n",
              "       [ 0,  0, 11]])"
            ]
          },
          "metadata": {},
          "execution_count": 54
        }
      ],
      "source": [
        "confusion_matrix(y_test,svm_predictions)"
      ]
    },
    {
      "cell_type": "markdown",
      "metadata": {
        "id": "Yr48BJ3n2mRA"
      },
      "source": [
        "- With C=1 and gamma=0.5"
      ]
    },
    {
      "cell_type": "code",
      "execution_count": null,
      "metadata": {
        "colab": {
          "base_uri": "https://localhost:8080/"
        },
        "id": "TwZFpzsm2rfe",
        "outputId": "c0324244-e7ef-4ef7-a61c-da73a4444aca"
      },
      "outputs": [
        {
          "output_type": "stream",
          "name": "stdout",
          "text": [
            "SVM Accuracy: 1.0\n",
            "              precision    recall  f1-score   support\n",
            "\n",
            "      setosa       1.00      1.00      1.00        10\n",
            "  versicolor       1.00      1.00      1.00         9\n",
            "   virginica       1.00      1.00      1.00        11\n",
            "\n",
            "    accuracy                           1.00        30\n",
            "   macro avg       1.00      1.00      1.00        30\n",
            "weighted avg       1.00      1.00      1.00        30\n",
            "\n"
          ]
        }
      ],
      "source": [
        "svm = SVC(kernel='rbf',C=1,gamma=0.5,random_state=42)\n",
        "svm.fit(X_train, y_train)\n",
        "svm_predictions = svm.predict(X_test)\n",
        "svm_accuracy = accuracy_score(y_test, svm_predictions)\n",
        "print('SVM Accuracy:', svm_accuracy)\n",
        "print(classification_report(y_test, svm_predictions, target_names=data.target_names))"
      ]
    },
    {
      "cell_type": "markdown",
      "metadata": {
        "id": "XdK3Tp2T2ve8"
      },
      "source": [
        "- Confusion Matrix"
      ]
    },
    {
      "cell_type": "code",
      "execution_count": null,
      "metadata": {
        "colab": {
          "base_uri": "https://localhost:8080/"
        },
        "id": "Kjfr4lw_2zha",
        "outputId": "607720ed-c9d4-4e24-e83c-09351fb1c3e5"
      },
      "outputs": [
        {
          "output_type": "execute_result",
          "data": {
            "text/plain": [
              "array([[10,  0,  0],\n",
              "       [ 0,  9,  0],\n",
              "       [ 0,  0, 11]])"
            ]
          },
          "metadata": {},
          "execution_count": 56
        }
      ],
      "source": [
        "confusion_matrix(y_test,svm_predictions)"
      ]
    },
    {
      "cell_type": "markdown",
      "metadata": {
        "id": "J53LICecXeww"
      },
      "source": [
        "## MLP"
      ]
    },
    {
      "cell_type": "markdown",
      "metadata": {
        "id": "2in9pznjXj7n"
      },
      "source": [
        "### RELU + ADAM\n",
        "- With thirty hidden layers, 1000 maximum iteractions, activation='relu', solver='adam' and alpha=0.001"
      ]
    },
    {
      "cell_type": "code",
      "execution_count": null,
      "metadata": {
        "colab": {
          "base_uri": "https://localhost:8080/"
        },
        "id": "YZyf9rErXhZu",
        "outputId": "a3f93635-ce38-49ed-fbd4-a0eee178de26"
      },
      "outputs": [
        {
          "output_type": "stream",
          "name": "stdout",
          "text": [
            "MLP Accuracy: 1.0\n",
            "              precision    recall  f1-score   support\n",
            "\n",
            "      setosa       1.00      1.00      1.00        10\n",
            "  versicolor       1.00      1.00      1.00         9\n",
            "   virginica       1.00      1.00      1.00        11\n",
            "\n",
            "    accuracy                           1.00        30\n",
            "   macro avg       1.00      1.00      1.00        30\n",
            "weighted avg       1.00      1.00      1.00        30\n",
            "\n"
          ]
        }
      ],
      "source": [
        "mlp = MLPClassifier(hidden_layer_sizes=(30,),activation='relu',solver='adam',alpha=0.001,max_iter=1000, random_state=42)\n",
        "mlp.fit(X_train, y_train)\n",
        "mlp_predictions = mlp.predict(X_test)\n",
        "mlp_accuracy = accuracy_score(y_test, mlp_predictions)\n",
        "print('MLP Accuracy:', mlp_accuracy)\n",
        "print(classification_report(y_test, mlp_predictions, target_names=data.target_names))"
      ]
    },
    {
      "cell_type": "markdown",
      "metadata": {
        "id": "nNprPMZ-XtHY"
      },
      "source": [
        "- Confusion Matrix"
      ]
    },
    {
      "cell_type": "code",
      "execution_count": null,
      "metadata": {
        "colab": {
          "base_uri": "https://localhost:8080/"
        },
        "id": "vh7cqB1QXvD8",
        "outputId": "a91b7cac-c090-4040-f4a9-d40d51245d58"
      },
      "outputs": [
        {
          "output_type": "execute_result",
          "data": {
            "text/plain": [
              "array([[10,  0,  0],\n",
              "       [ 0,  9,  0],\n",
              "       [ 0,  0, 11]])"
            ]
          },
          "metadata": {},
          "execution_count": 58
        }
      ],
      "source": [
        "confusion_matrix(y_test,mlp_predictions)"
      ]
    },
    {
      "cell_type": "markdown",
      "metadata": {
        "id": "9IZqPzFwaVU4"
      },
      "source": [
        "- Plot"
      ]
    },
    {
      "cell_type": "code",
      "execution_count": null,
      "metadata": {
        "colab": {
          "base_uri": "https://localhost:8080/",
          "height": 564
        },
        "id": "6Qb55YnlaWM1",
        "outputId": "f614b9bf-28c3-47f4-e6e3-32a21e61d1e9"
      },
      "outputs": [
        {
          "output_type": "display_data",
          "data": {
            "text/plain": [
              "<Figure size 800x600 with 1 Axes>"
            ],
            "image/png": "[encoded data removed]"
          },
          "metadata": {}
        }
      ],
      "source": [
        "plt.figure(figsize=(8, 6))\n",
        "scatter = plt.scatter(X_test[:, 1], X_test[:, 2], c=mlp_predictions)\n",
        "plt.title('MLP Classification Results on Iris Test Set')\n",
        "plt.xlabel(data.feature_names[0])\n",
        "plt.ylabel(data.feature_names[1])\n",
        "plt.show()"
      ]
    },
    {
      "cell_type": "markdown",
      "metadata": {
        "id": "CoYUqgAjuqID"
      },
      "source": [
        "### RELU + LBFGS"
      ]
    },
    {
      "cell_type": "markdown",
      "metadata": {
        "id": "k6FlqL57vB9Y"
      },
      "source": [
        "- With thirty hidden layers, 1000 maximum iteractions, activation='relu', solver='lbfgs' and alpha=0.001"
      ]
    },
    {
      "cell_type": "code",
      "execution_count": null,
      "metadata": {
        "colab": {
          "base_uri": "https://localhost:8080/"
        },
        "id": "KRDf3xR5u-dQ",
        "outputId": "f5b949df-95cb-4718-92d9-06ee293d434c"
      },
      "outputs": [
        {
          "output_type": "stream",
          "name": "stdout",
          "text": [
            "MLP Accuracy: 1.0\n",
            "              precision    recall  f1-score   support\n",
            "\n",
            "      setosa       1.00      1.00      1.00        10\n",
            "  versicolor       1.00      1.00      1.00         9\n",
            "   virginica       1.00      1.00      1.00        11\n",
            "\n",
            "    accuracy                           1.00        30\n",
            "   macro avg       1.00      1.00      1.00        30\n",
            "weighted avg       1.00      1.00      1.00        30\n",
            "\n"
          ]
        }
      ],
      "source": [
        "mlp = MLPClassifier(hidden_layer_sizes=(30,),activation='relu',solver='lbfgs',alpha=0.001,max_iter=1000, random_state=42)\n",
        "mlp.fit(X_train, y_train)\n",
        "mlp_predictions = mlp.predict(X_test)\n",
        "mlp_accuracy = accuracy_score(y_test, mlp_predictions)\n",
        "print('MLP Accuracy:', mlp_accuracy)\n",
        "print(classification_report(y_test, mlp_predictions, target_names=data.target_names))"
      ]
    },
    {
      "cell_type": "markdown",
      "metadata": {
        "id": "AopgANUcveyS"
      },
      "source": [
        "- Confusion Matrix"
      ]
    },
    {
      "cell_type": "code",
      "execution_count": null,
      "metadata": {
        "colab": {
          "base_uri": "https://localhost:8080/"
        },
        "id": "ijz1yd9Dvec0",
        "outputId": "1aa0eb4f-a362-4ece-eb07-7b8d299ba96f"
      },
      "outputs": [
        {
          "output_type": "execute_result",
          "data": {
            "text/plain": [
              "array([[10,  0,  0],\n",
              "       [ 0,  9,  0],\n",
              "       [ 0,  0, 11]])"
            ]
          },
          "metadata": {},
          "execution_count": 61
        }
      ],
      "source": [
        "confusion_matrix(y_test,mlp_predictions)"
      ]
    },
    {
      "cell_type": "markdown",
      "metadata": {
        "id": "22Md2avlXyKN"
      },
      "source": [
        "# Digits Dataset"
      ]
    },
    {
      "cell_type": "markdown",
      "metadata": {
        "id": "TTxCVPgxX-h0"
      },
      "source": [
        "- Load digits dataset"
      ]
    },
    {
      "cell_type": "code",
      "execution_count": null,
      "metadata": {
        "colab": {
          "base_uri": "https://localhost:8080/"
        },
        "id": "4rl9L8ncYBUI",
        "outputId": "35892e72-2e47-4875-8932-8faea1563bfc"
      },
      "outputs": [
        {
          "output_type": "stream",
          "name": "stdout",
          "text": [
            "Dataset shape:  (1797, 64)\n",
            "Dimensions of each image:  (8, 8)\n"
          ]
        }
      ],
      "source": [
        "from sklearn.datasets import load_digits\n",
        "\n",
        "digits = load_digits()\n",
        "print(\"Dataset shape: \",digits.data.shape)\n",
        "\n",
        "img_format = digits.images[0].shape\n",
        "print(\"Dimensions of each image: \",img_format)\n",
        "\n",
        "X = digits.data\n",
        "y = digits.target"
      ]
    },
    {
      "cell_type": "markdown",
      "metadata": {
        "id": "jQ6OLZ8pH31h"
      },
      "source": [
        "- Check for the balancement of the dataset"
      ]
    },
    {
      "cell_type": "code",
      "execution_count": null,
      "metadata": {
        "colab": {
          "base_uri": "https://localhost:8080/",
          "height": 693
        },
        "id": "K0bDKBzlH8AO",
        "outputId": "33619be9-2162-4ed7-f804-539aeee52db3"
      },
      "outputs": [
        {
          "output_type": "stream",
          "name": "stdout",
          "text": [
            "Class distribution in Iris dataset:\n",
            "Class\n",
            "3    183\n",
            "1    182\n",
            "5    182\n",
            "4    181\n",
            "6    181\n",
            "9    180\n",
            "7    179\n",
            "0    178\n",
            "2    177\n",
            "8    174\n",
            "Name: count, dtype: int64\n"
          ]
        },
        {
          "output_type": "display_data",
          "data": {
            "text/plain": [
              "<Figure size 640x480 with 1 Axes>"
            ],
            "image/png": "[encoded data removed]"
          },
          "metadata": {}
        }
      ],
      "source": [
        "import pandas as pd\n",
        "\n",
        "y_series = pd.Series(y, name=\"Class\")\n",
        "\n",
        "class_counts = y_series.value_counts()\n",
        "\n",
        "print(\"Class distribution in Iris dataset:\")\n",
        "print(class_counts)\n",
        "\n",
        "class_counts.plot(kind='bar')\n",
        "plt.title('Distribution of Iris Classes')\n",
        "plt.xlabel('Class')\n",
        "plt.ylabel('Number of Samples')\n",
        "plt.show()"
      ]
    },
    {
      "cell_type": "markdown",
      "metadata": {
        "id": "XHPHEy9xZpcf"
      },
      "source": [
        "- Train and Test Split (80%,20%)"
      ]
    },
    {
      "cell_type": "code",
      "execution_count": null,
      "metadata": {
        "id": "kdcOktF9Zsnt"
      },
      "outputs": [],
      "source": [
        "X_train, X_test, y_train, y_test = train_test_split(X, y, test_size=0.2, random_state=42)"
      ]
    },
    {
      "cell_type": "markdown",
      "metadata": {
        "id": "h28ojpqDYVaW"
      },
      "source": [
        "- Data Analysis"
      ]
    },
    {
      "cell_type": "code",
      "execution_count": null,
      "metadata": {
        "colab": {
          "base_uri": "https://localhost:8080/",
          "height": 192
        },
        "id": "1XeSPZLAYnJe",
        "outputId": "53cb8166-d88e-429d-aba0-663d0c68f1d5"
      },
      "outputs": [
        {
          "output_type": "display_data",
          "data": {
            "text/plain": [
              "<Figure size 1000x200 with 5 Axes>"
            ],
            "image/png": "[encoded data removed]"
          },
          "metadata": {}
        }
      ],
      "source": [
        "import matplotlib.pyplot as plt\n",
        "\n",
        "plt.figure(figsize=(10, 2))\n",
        "for i in range(5):\n",
        "    plt.subplot(1, 5, i + 1)\n",
        "    plt.imshow(digits.images[i], cmap=\"gray\")\n",
        "    plt.title(f\"Label: {digits.target[i]}\")\n",
        "    plt.axis(\"off\")\n",
        "plt.show()"
      ]
    },
    {
      "cell_type": "markdown",
      "metadata": {
        "id": "gnmuu0IrZbW0"
      },
      "source": [
        "## KNN"
      ]
    },
    {
      "cell_type": "markdown",
      "metadata": {
        "id": "udtEsugWaD7M"
      },
      "source": [
        "### With three neighbors"
      ]
    },
    {
      "cell_type": "markdown",
      "metadata": {
        "id": "aBYq6qQ5shF8"
      },
      "source": [
        "- With weights='auto'"
      ]
    },
    {
      "cell_type": "code",
      "execution_count": null,
      "metadata": {
        "colab": {
          "base_uri": "https://localhost:8080/"
        },
        "id": "UdCV0Z6mZcdH",
        "outputId": "998bca46-4b90-4fa6-95eb-2382c2fc7cc3"
      },
      "outputs": [
        {
          "output_type": "stream",
          "name": "stdout",
          "text": [
            "KNN Accuracy: 0.9833333333333333\n",
            "              precision    recall  f1-score   support\n",
            "\n",
            "           0       1.00      1.00      1.00        33\n",
            "           1       0.97      1.00      0.98        28\n",
            "           2       1.00      1.00      1.00        33\n",
            "           3       0.97      1.00      0.99        34\n",
            "           4       0.98      1.00      0.99        46\n",
            "           5       0.98      0.98      0.98        47\n",
            "           6       0.97      1.00      0.99        35\n",
            "           7       1.00      0.97      0.99        34\n",
            "           8       1.00      0.97      0.98        30\n",
            "           9       0.97      0.93      0.95        40\n",
            "\n",
            "    accuracy                           0.98       360\n",
            "   macro avg       0.98      0.98      0.98       360\n",
            "weighted avg       0.98      0.98      0.98       360\n",
            "\n"
          ]
        }
      ],
      "source": [
        "knn = KNeighborsClassifier(n_neighbors=3)\n",
        "knn.fit(X_train, y_train)\n",
        "knn_predictions = knn.predict(X_test)\n",
        "knn_accuracy = accuracy_score(y_test, knn_predictions)\n",
        "print('KNN Accuracy:', knn_accuracy)\n",
        "print(classification_report(y_test, knn_predictions))"
      ]
    },
    {
      "cell_type": "markdown",
      "metadata": {
        "id": "J7aUUZHjaDF8"
      },
      "source": [
        "- Confusion Matrix"
      ]
    },
    {
      "cell_type": "code",
      "execution_count": null,
      "metadata": {
        "colab": {
          "base_uri": "https://localhost:8080/"
        },
        "id": "cgMsf2q4aJba",
        "outputId": "98f05862-a7d6-4fbb-c5aa-53036898e286"
      },
      "outputs": [
        {
          "output_type": "execute_result",
          "data": {
            "text/plain": [
              "array([[33,  0,  0,  0,  0,  0,  0,  0,  0,  0],\n",
              "       [ 0, 28,  0,  0,  0,  0,  0,  0,  0,  0],\n",
              "       [ 0,  0, 33,  0,  0,  0,  0,  0,  0,  0],\n",
              "       [ 0,  0,  0, 34,  0,  0,  0,  0,  0,  0],\n",
              "       [ 0,  0,  0,  0, 46,  0,  0,  0,  0,  0],\n",
              "       [ 0,  0,  0,  0,  0, 46,  1,  0,  0,  0],\n",
              "       [ 0,  0,  0,  0,  0,  0, 35,  0,  0,  0],\n",
              "       [ 0,  0,  0,  0,  0,  0,  0, 33,  0,  1],\n",
              "       [ 0,  1,  0,  0,  0,  0,  0,  0, 29,  0],\n",
              "       [ 0,  0,  0,  1,  1,  1,  0,  0,  0, 37]])"
            ]
          },
          "metadata": {},
          "execution_count": 67
        }
      ],
      "source": [
        "confusion_matrix(y_test,knn_predictions)"
      ]
    },
    {
      "cell_type": "markdown",
      "metadata": {
        "id": "t57lhGLRsuN_"
      },
      "source": [
        "- With weights='distance'"
      ]
    },
    {
      "cell_type": "code",
      "execution_count": null,
      "metadata": {
        "colab": {
          "base_uri": "https://localhost:8080/"
        },
        "id": "JeFSmnTLs0Uq",
        "outputId": "b9ec1462-95f1-4b5a-fddd-2bf8006f37a1"
      },
      "outputs": [
        {
          "output_type": "stream",
          "name": "stdout",
          "text": [
            "KNN Accuracy: 0.9833333333333333\n",
            "              precision    recall  f1-score   support\n",
            "\n",
            "           0       1.00      1.00      1.00        33\n",
            "           1       0.97      1.00      0.98        28\n",
            "           2       1.00      1.00      1.00        33\n",
            "           3       0.97      1.00      0.99        34\n",
            "           4       0.98      1.00      0.99        46\n",
            "           5       0.98      0.98      0.98        47\n",
            "           6       0.97      1.00      0.99        35\n",
            "           7       1.00      0.97      0.99        34\n",
            "           8       1.00      0.97      0.98        30\n",
            "           9       0.97      0.93      0.95        40\n",
            "\n",
            "    accuracy                           0.98       360\n",
            "   macro avg       0.98      0.98      0.98       360\n",
            "weighted avg       0.98      0.98      0.98       360\n",
            "\n"
          ]
        }
      ],
      "source": [
        "knn = KNeighborsClassifier(n_neighbors=3,weights='distance')\n",
        "knn.fit(X_train, y_train)\n",
        "knn_predictions = knn.predict(X_test)\n",
        "knn_accuracy = accuracy_score(y_test, knn_predictions)\n",
        "print('KNN Accuracy:', knn_accuracy)\n",
        "print(classification_report(y_test, knn_predictions))"
      ]
    },
    {
      "cell_type": "markdown",
      "metadata": {
        "id": "1RcTZ4lgaxZ1"
      },
      "source": [
        "### With five neighbors"
      ]
    },
    {
      "cell_type": "markdown",
      "metadata": {
        "id": "lL-Et5i0tFk5"
      },
      "source": [
        "- With weights='auto'"
      ]
    },
    {
      "cell_type": "code",
      "execution_count": null,
      "metadata": {
        "colab": {
          "base_uri": "https://localhost:8080/"
        },
        "id": "acERL_4sazN_",
        "outputId": "55b9cb96-92e6-49ee-f213-5691619c2774"
      },
      "outputs": [
        {
          "output_type": "stream",
          "name": "stdout",
          "text": [
            "KNN Accuracy: 0.9861111111111112\n",
            "              precision    recall  f1-score   support\n",
            "\n",
            "           0       1.00      1.00      1.00        33\n",
            "           1       1.00      1.00      1.00        28\n",
            "           2       1.00      1.00      1.00        33\n",
            "           3       1.00      1.00      1.00        34\n",
            "           4       0.98      1.00      0.99        46\n",
            "           5       0.98      0.96      0.97        47\n",
            "           6       0.97      1.00      0.99        35\n",
            "           7       1.00      0.97      0.99        34\n",
            "           8       1.00      1.00      1.00        30\n",
            "           9       0.95      0.95      0.95        40\n",
            "\n",
            "    accuracy                           0.99       360\n",
            "   macro avg       0.99      0.99      0.99       360\n",
            "weighted avg       0.99      0.99      0.99       360\n",
            "\n"
          ]
        }
      ],
      "source": [
        "knn = KNeighborsClassifier(n_neighbors=5)\n",
        "knn.fit(X_train, y_train)\n",
        "knn_predictions = knn.predict(X_test)\n",
        "knn_accuracy = accuracy_score(y_test, knn_predictions)\n",
        "print('KNN Accuracy:', knn_accuracy)\n",
        "print(classification_report(y_test, knn_predictions))"
      ]
    },
    {
      "cell_type": "markdown",
      "metadata": {
        "id": "vXhmtgwOa1I3"
      },
      "source": [
        "- Confusion Matrix"
      ]
    },
    {
      "cell_type": "code",
      "execution_count": null,
      "metadata": {
        "colab": {
          "base_uri": "https://localhost:8080/"
        },
        "id": "4UyhG7uca2Qg",
        "outputId": "8013f708-3a60-4fcf-9012-b831d81e7ad8"
      },
      "outputs": [
        {
          "output_type": "execute_result",
          "data": {
            "text/plain": [
              "array([[33,  0,  0,  0,  0,  0,  0,  0,  0,  0],\n",
              "       [ 0, 28,  0,  0,  0,  0,  0,  0,  0,  0],\n",
              "       [ 0,  0, 33,  0,  0,  0,  0,  0,  0,  0],\n",
              "       [ 0,  0,  0, 34,  0,  0,  0,  0,  0,  0],\n",
              "       [ 0,  0,  0,  0, 46,  0,  0,  0,  0,  0],\n",
              "       [ 0,  0,  0,  0,  0, 45,  1,  0,  0,  1],\n",
              "       [ 0,  0,  0,  0,  0,  0, 35,  0,  0,  0],\n",
              "       [ 0,  0,  0,  0,  0,  0,  0, 33,  0,  1],\n",
              "       [ 0,  0,  0,  0,  0,  0,  0,  0, 30,  0],\n",
              "       [ 0,  0,  0,  0,  1,  1,  0,  0,  0, 38]])"
            ]
          },
          "metadata": {},
          "execution_count": 70
        }
      ],
      "source": [
        "confusion_matrix(y_test,knn_predictions)"
      ]
    },
    {
      "cell_type": "markdown",
      "metadata": {
        "id": "sIWTBslks_N8"
      },
      "source": [
        "- With weights='distance'"
      ]
    },
    {
      "cell_type": "code",
      "execution_count": null,
      "metadata": {
        "colab": {
          "base_uri": "https://localhost:8080/"
        },
        "id": "HMmVZ6P_tEvm",
        "outputId": "69923a6e-587f-43db-da7e-ad0d654f5522"
      },
      "outputs": [
        {
          "output_type": "stream",
          "name": "stdout",
          "text": [
            "KNN Accuracy: 0.9861111111111112\n",
            "              precision    recall  f1-score   support\n",
            "\n",
            "           0       1.00      1.00      1.00        33\n",
            "           1       1.00      1.00      1.00        28\n",
            "           2       1.00      1.00      1.00        33\n",
            "           3       1.00      1.00      1.00        34\n",
            "           4       0.98      1.00      0.99        46\n",
            "           5       0.98      0.96      0.97        47\n",
            "           6       0.97      1.00      0.99        35\n",
            "           7       1.00      0.97      0.99        34\n",
            "           8       1.00      1.00      1.00        30\n",
            "           9       0.95      0.95      0.95        40\n",
            "\n",
            "    accuracy                           0.99       360\n",
            "   macro avg       0.99      0.99      0.99       360\n",
            "weighted avg       0.99      0.99      0.99       360\n",
            "\n"
          ]
        }
      ],
      "source": [
        "knn = KNeighborsClassifier(n_neighbors=5,weights='distance')\n",
        "knn.fit(X_train, y_train)\n",
        "knn_predictions = knn.predict(X_test)\n",
        "knn_accuracy = accuracy_score(y_test, knn_predictions)\n",
        "print('KNN Accuracy:', knn_accuracy)\n",
        "print(classification_report(y_test, knn_predictions))"
      ]
    },
    {
      "cell_type": "markdown",
      "metadata": {
        "id": "kD6wGbF2tQeO"
      },
      "source": [
        "- Confusion Matrix"
      ]
    },
    {
      "cell_type": "code",
      "execution_count": null,
      "metadata": {
        "colab": {
          "base_uri": "https://localhost:8080/"
        },
        "id": "3XHN_szMtTBQ",
        "outputId": "5c881317-a800-425b-cd27-c487fc29ee0f"
      },
      "outputs": [
        {
          "output_type": "execute_result",
          "data": {
            "text/plain": [
              "array([[33,  0,  0,  0,  0,  0,  0,  0,  0,  0],\n",
              "       [ 0, 28,  0,  0,  0,  0,  0,  0,  0,  0],\n",
              "       [ 0,  0, 33,  0,  0,  0,  0,  0,  0,  0],\n",
              "       [ 0,  0,  0, 34,  0,  0,  0,  0,  0,  0],\n",
              "       [ 0,  0,  0,  0, 46,  0,  0,  0,  0,  0],\n",
              "       [ 0,  0,  0,  0,  0, 45,  1,  0,  0,  1],\n",
              "       [ 0,  0,  0,  0,  0,  0, 35,  0,  0,  0],\n",
              "       [ 0,  0,  0,  0,  0,  0,  0, 33,  0,  1],\n",
              "       [ 0,  0,  0,  0,  0,  0,  0,  0, 30,  0],\n",
              "       [ 0,  0,  0,  0,  1,  1,  0,  0,  0, 38]])"
            ]
          },
          "metadata": {},
          "execution_count": 72
        }
      ],
      "source": [
        "confusion_matrix(y_test,knn_predictions)"
      ]
    },
    {
      "cell_type": "markdown",
      "metadata": {
        "id": "x43v960LtUzo"
      },
      "source": [
        "### With seven neighbors"
      ]
    },
    {
      "cell_type": "markdown",
      "metadata": {
        "id": "LRfXgMlZtdRr"
      },
      "source": [
        "- With weights='auto'"
      ]
    },
    {
      "cell_type": "code",
      "execution_count": null,
      "metadata": {
        "colab": {
          "base_uri": "https://localhost:8080/"
        },
        "id": "HY_BZy6utcqO",
        "outputId": "5b769475-4f70-41b2-dd01-32b2d5971d08"
      },
      "outputs": [
        {
          "output_type": "stream",
          "name": "stdout",
          "text": [
            "KNN Accuracy: 0.9888888888888889\n",
            "              precision    recall  f1-score   support\n",
            "\n",
            "           0       1.00      1.00      1.00        33\n",
            "           1       1.00      1.00      1.00        28\n",
            "           2       1.00      1.00      1.00        33\n",
            "           3       1.00      1.00      1.00        34\n",
            "           4       0.98      1.00      0.99        46\n",
            "           5       0.98      0.98      0.98        47\n",
            "           6       0.97      1.00      0.99        35\n",
            "           7       1.00      0.97      0.99        34\n",
            "           8       1.00      1.00      1.00        30\n",
            "           9       0.97      0.95      0.96        40\n",
            "\n",
            "    accuracy                           0.99       360\n",
            "   macro avg       0.99      0.99      0.99       360\n",
            "weighted avg       0.99      0.99      0.99       360\n",
            "\n"
          ]
        }
      ],
      "source": [
        "knn = KNeighborsClassifier(n_neighbors=7)\n",
        "knn.fit(X_train, y_train)\n",
        "knn_predictions = knn.predict(X_test)\n",
        "knn_accuracy = accuracy_score(y_test, knn_predictions)\n",
        "print('KNN Accuracy:', knn_accuracy)\n",
        "print(classification_report(y_test, knn_predictions))"
      ]
    },
    {
      "cell_type": "markdown",
      "metadata": {
        "id": "gg3dxuaBtiK-"
      },
      "source": [
        "- Confusion Matrix"
      ]
    },
    {
      "cell_type": "code",
      "execution_count": null,
      "metadata": {
        "colab": {
          "base_uri": "https://localhost:8080/"
        },
        "id": "s9Jjs1Nwtkyf",
        "outputId": "cabf4f53-cc95-4b1b-9fa7-5de78a572cde"
      },
      "outputs": [
        {
          "output_type": "execute_result",
          "data": {
            "text/plain": [
              "array([[33,  0,  0,  0,  0,  0,  0,  0,  0,  0],\n",
              "       [ 0, 28,  0,  0,  0,  0,  0,  0,  0,  0],\n",
              "       [ 0,  0, 33,  0,  0,  0,  0,  0,  0,  0],\n",
              "       [ 0,  0,  0, 34,  0,  0,  0,  0,  0,  0],\n",
              "       [ 0,  0,  0,  0, 46,  0,  0,  0,  0,  0],\n",
              "       [ 0,  0,  0,  0,  0, 46,  1,  0,  0,  0],\n",
              "       [ 0,  0,  0,  0,  0,  0, 35,  0,  0,  0],\n",
              "       [ 0,  0,  0,  0,  0,  0,  0, 33,  0,  1],\n",
              "       [ 0,  0,  0,  0,  0,  0,  0,  0, 30,  0],\n",
              "       [ 0,  0,  0,  0,  1,  1,  0,  0,  0, 38]])"
            ]
          },
          "metadata": {},
          "execution_count": 74
        }
      ],
      "source": [
        "confusion_matrix(y_test,knn_predictions)"
      ]
    },
    {
      "cell_type": "markdown",
      "metadata": {
        "id": "otG2uv0ZtlpF"
      },
      "source": [
        "- With weights='distance'"
      ]
    },
    {
      "cell_type": "code",
      "execution_count": null,
      "metadata": {
        "colab": {
          "base_uri": "https://localhost:8080/"
        },
        "id": "MCEudjwQtpmp",
        "outputId": "b470a084-1aa9-4ec3-c64e-87c5b5f4238f"
      },
      "outputs": [
        {
          "output_type": "stream",
          "name": "stdout",
          "text": [
            "KNN Accuracy: 0.9888888888888889\n",
            "              precision    recall  f1-score   support\n",
            "\n",
            "           0       1.00      1.00      1.00        33\n",
            "           1       1.00      1.00      1.00        28\n",
            "           2       1.00      1.00      1.00        33\n",
            "           3       1.00      1.00      1.00        34\n",
            "           4       0.98      1.00      0.99        46\n",
            "           5       0.98      0.98      0.98        47\n",
            "           6       0.97      1.00      0.99        35\n",
            "           7       1.00      0.97      0.99        34\n",
            "           8       1.00      1.00      1.00        30\n",
            "           9       0.97      0.95      0.96        40\n",
            "\n",
            "    accuracy                           0.99       360\n",
            "   macro avg       0.99      0.99      0.99       360\n",
            "weighted avg       0.99      0.99      0.99       360\n",
            "\n"
          ]
        }
      ],
      "source": [
        "knn = KNeighborsClassifier(n_neighbors=7,weights='distance')\n",
        "knn.fit(X_train, y_train)\n",
        "knn_predictions = knn.predict(X_test)\n",
        "knn_accuracy = accuracy_score(y_test, knn_predictions)\n",
        "print('KNN Accuracy:', knn_accuracy)\n",
        "print(classification_report(y_test, knn_predictions))"
      ]
    },
    {
      "cell_type": "markdown",
      "metadata": {
        "id": "hBOyZv7MtsCw"
      },
      "source": [
        "- Confusion Matrix"
      ]
    },
    {
      "cell_type": "code",
      "execution_count": null,
      "metadata": {
        "colab": {
          "base_uri": "https://localhost:8080/"
        },
        "id": "hYVMr2x_tvsw",
        "outputId": "4adc8af4-242e-4250-b253-3e4583b58acd"
      },
      "outputs": [
        {
          "output_type": "execute_result",
          "data": {
            "text/plain": [
              "array([[33,  0,  0,  0,  0,  0,  0,  0,  0,  0],\n",
              "       [ 0, 28,  0,  0,  0,  0,  0,  0,  0,  0],\n",
              "       [ 0,  0, 33,  0,  0,  0,  0,  0,  0,  0],\n",
              "       [ 0,  0,  0, 34,  0,  0,  0,  0,  0,  0],\n",
              "       [ 0,  0,  0,  0, 46,  0,  0,  0,  0,  0],\n",
              "       [ 0,  0,  0,  0,  0, 46,  1,  0,  0,  0],\n",
              "       [ 0,  0,  0,  0,  0,  0, 35,  0,  0,  0],\n",
              "       [ 0,  0,  0,  0,  0,  0,  0, 33,  0,  1],\n",
              "       [ 0,  0,  0,  0,  0,  0,  0,  0, 30,  0],\n",
              "       [ 0,  0,  0,  0,  1,  1,  0,  0,  0, 38]])"
            ]
          },
          "metadata": {},
          "execution_count": 76
        }
      ],
      "source": [
        "confusion_matrix(y_test,knn_predictions)"
      ]
    },
    {
      "cell_type": "markdown",
      "metadata": {
        "id": "bVQ0gVdAa5ef"
      },
      "source": [
        "## SVM"
      ]
    },
    {
      "cell_type": "markdown",
      "metadata": {
        "id": "C1D10-QfbAKF"
      },
      "source": [
        "### Linear kernel"
      ]
    },
    {
      "cell_type": "markdown",
      "metadata": {
        "id": "ku0ym2gM4s6Y"
      },
      "source": [
        "With C=0.1"
      ]
    },
    {
      "cell_type": "code",
      "execution_count": null,
      "metadata": {
        "colab": {
          "base_uri": "https://localhost:8080/"
        },
        "id": "UUSNgmIFa6f6",
        "outputId": "911a53b0-01a8-4e29-f54f-23b0423fa14b"
      },
      "outputs": [
        {
          "output_type": "stream",
          "name": "stdout",
          "text": [
            "SVM Accuracy: 0.9777777777777777\n",
            "              precision    recall  f1-score   support\n",
            "\n",
            "           0       1.00      1.00      1.00        33\n",
            "           1       0.97      1.00      0.98        28\n",
            "           2       1.00      1.00      1.00        33\n",
            "           3       0.97      0.94      0.96        34\n",
            "           4       0.98      0.98      0.98        46\n",
            "           5       0.96      1.00      0.98        47\n",
            "           6       1.00      1.00      1.00        35\n",
            "           7       0.97      0.97      0.97        34\n",
            "           8       1.00      0.97      0.98        30\n",
            "           9       0.95      0.93      0.94        40\n",
            "\n",
            "    accuracy                           0.98       360\n",
            "   macro avg       0.98      0.98      0.98       360\n",
            "weighted avg       0.98      0.98      0.98       360\n",
            "\n"
          ]
        }
      ],
      "source": [
        "svm = SVC(kernel='linear',C=0.1,random_state=42)\n",
        "svm.fit(X_train, y_train)\n",
        "svm_predictions = svm.predict(X_test)\n",
        "svm_accuracy = accuracy_score(y_test, svm_predictions)\n",
        "print('SVM Accuracy:', svm_accuracy)\n",
        "print(classification_report(y_test, svm_predictions))"
      ]
    },
    {
      "cell_type": "markdown",
      "metadata": {
        "id": "Wh4FinrebFz1"
      },
      "source": [
        "- Confusion Matrix"
      ]
    },
    {
      "cell_type": "code",
      "execution_count": null,
      "metadata": {
        "colab": {
          "base_uri": "https://localhost:8080/"
        },
        "id": "skyyuvVEbH-7",
        "outputId": "2aee744a-a06d-40f0-8b87-d9cc90ff092d"
      },
      "outputs": [
        {
          "output_type": "execute_result",
          "data": {
            "text/plain": [
              "array([[33,  0,  0,  0,  0,  0,  0,  0,  0,  0],\n",
              "       [ 0, 28,  0,  0,  0,  0,  0,  0,  0,  0],\n",
              "       [ 0,  0, 33,  0,  0,  0,  0,  0,  0,  0],\n",
              "       [ 0,  0,  0, 32,  0,  1,  0,  0,  0,  1],\n",
              "       [ 0,  1,  0,  0, 45,  0,  0,  0,  0,  0],\n",
              "       [ 0,  0,  0,  0,  0, 47,  0,  0,  0,  0],\n",
              "       [ 0,  0,  0,  0,  0,  0, 35,  0,  0,  0],\n",
              "       [ 0,  0,  0,  0,  0,  0,  0, 33,  0,  1],\n",
              "       [ 0,  0,  0,  0,  0,  1,  0,  0, 29,  0],\n",
              "       [ 0,  0,  0,  1,  1,  0,  0,  1,  0, 37]])"
            ]
          },
          "metadata": {},
          "execution_count": 78
        }
      ],
      "source": [
        "confusion_matrix(y_test,svm_predictions)"
      ]
    },
    {
      "cell_type": "markdown",
      "metadata": {
        "id": "cAHuV64-415I"
      },
      "source": [
        "- With C=1"
      ]
    },
    {
      "cell_type": "code",
      "execution_count": null,
      "metadata": {
        "colab": {
          "base_uri": "https://localhost:8080/"
        },
        "id": "t1cDtfk343Le",
        "outputId": "61815d48-3b2d-4a42-f944-80e32795d3dc"
      },
      "outputs": [
        {
          "output_type": "stream",
          "name": "stdout",
          "text": [
            "SVM Accuracy: 0.9777777777777777\n",
            "              precision    recall  f1-score   support\n",
            "\n",
            "           0       1.00      1.00      1.00        33\n",
            "           1       0.97      1.00      0.98        28\n",
            "           2       1.00      1.00      1.00        33\n",
            "           3       0.97      0.94      0.96        34\n",
            "           4       0.98      0.98      0.98        46\n",
            "           5       0.96      1.00      0.98        47\n",
            "           6       1.00      1.00      1.00        35\n",
            "           7       0.97      0.97      0.97        34\n",
            "           8       1.00      0.97      0.98        30\n",
            "           9       0.95      0.93      0.94        40\n",
            "\n",
            "    accuracy                           0.98       360\n",
            "   macro avg       0.98      0.98      0.98       360\n",
            "weighted avg       0.98      0.98      0.98       360\n",
            "\n"
          ]
        }
      ],
      "source": [
        "svm = SVC(kernel='linear',C=1,random_state=42)\n",
        "svm.fit(X_train, y_train)\n",
        "svm_predictions = svm.predict(X_test)\n",
        "svm_accuracy = accuracy_score(y_test, svm_predictions)\n",
        "print('SVM Accuracy:', svm_accuracy)\n",
        "print(classification_report(y_test, svm_predictions))"
      ]
    },
    {
      "cell_type": "markdown",
      "metadata": {
        "id": "HismdsiN5DSa"
      },
      "source": [
        "- Confusion Matrix"
      ]
    },
    {
      "cell_type": "code",
      "execution_count": null,
      "metadata": {
        "colab": {
          "base_uri": "https://localhost:8080/"
        },
        "id": "OGTQVp4X5FHM",
        "outputId": "9fbbed70-d8dc-4a08-def0-1dd9a8c4a881"
      },
      "outputs": [
        {
          "output_type": "execute_result",
          "data": {
            "text/plain": [
              "array([[33,  0,  0,  0,  0,  0,  0,  0,  0,  0],\n",
              "       [ 0, 28,  0,  0,  0,  0,  0,  0,  0,  0],\n",
              "       [ 0,  0, 33,  0,  0,  0,  0,  0,  0,  0],\n",
              "       [ 0,  0,  0, 32,  0,  1,  0,  0,  0,  1],\n",
              "       [ 0,  1,  0,  0, 45,  0,  0,  0,  0,  0],\n",
              "       [ 0,  0,  0,  0,  0, 47,  0,  0,  0,  0],\n",
              "       [ 0,  0,  0,  0,  0,  0, 35,  0,  0,  0],\n",
              "       [ 0,  0,  0,  0,  0,  0,  0, 33,  0,  1],\n",
              "       [ 0,  0,  0,  0,  0,  1,  0,  0, 29,  0],\n",
              "       [ 0,  0,  0,  1,  1,  0,  0,  1,  0, 37]])"
            ]
          },
          "metadata": {},
          "execution_count": 80
        }
      ],
      "source": [
        "confusion_matrix(y_test,svm_predictions)"
      ]
    },
    {
      "cell_type": "markdown",
      "metadata": {
        "id": "Xlanp_vN5GBo"
      },
      "source": [
        "### RBF Kernel"
      ]
    },
    {
      "cell_type": "markdown",
      "metadata": {
        "id": "7aLZeNK75J-R"
      },
      "source": [
        "- With C=0.1 and gamma=0.5"
      ]
    },
    {
      "cell_type": "code",
      "execution_count": null,
      "metadata": {
        "colab": {
          "base_uri": "https://localhost:8080/"
        },
        "id": "Dwunae9U5TkN",
        "outputId": "1e419323-30a2-4ca6-f39a-d59ce7989aa3"
      },
      "outputs": [
        {
          "output_type": "stream",
          "name": "stdout",
          "text": [
            "SVM Accuracy: 0.07777777777777778\n",
            "              precision    recall  f1-score   support\n",
            "\n",
            "           0       0.00      0.00      0.00        33\n",
            "           1       0.08      1.00      0.14        28\n",
            "           2       0.00      0.00      0.00        33\n",
            "           3       0.00      0.00      0.00        34\n",
            "           4       0.00      0.00      0.00        46\n",
            "           5       0.00      0.00      0.00        47\n",
            "           6       0.00      0.00      0.00        35\n",
            "           7       0.00      0.00      0.00        34\n",
            "           8       0.00      0.00      0.00        30\n",
            "           9       0.00      0.00      0.00        40\n",
            "\n",
            "    accuracy                           0.08       360\n",
            "   macro avg       0.01      0.10      0.01       360\n",
            "weighted avg       0.01      0.08      0.01       360\n",
            "\n"
          ]
        },
        {
          "output_type": "stream",
          "name": "stderr",
          "text": [
            "/usr/local/lib/python3.12/dist-packages/sklearn/metrics/_classification.py:1565: UndefinedMetricWarning: Precision is ill-defined and being set to 0.0 in labels with no predicted samples. Use `zero_division` parameter to control this behavior.\n",
            "  _warn_prf(average, modifier, f\"{metric.capitalize()} is\", len(result))\n",
            "/usr/local/lib/python3.12/dist-packages/sklearn/metrics/_classification.py:1565: UndefinedMetricWarning: Precision is ill-defined and being set to 0.0 in labels with no predicted samples. Use `zero_division` parameter to control this behavior.\n",
            "  _warn_prf(average, modifier, f\"{metric.capitalize()} is\", len(result))\n",
            "/usr/local/lib/python3.12/dist-packages/sklearn/metrics/_classification.py:1565: UndefinedMetricWarning: Precision is ill-defined and being set to 0.0 in labels with no predicted samples. Use `zero_division` parameter to control this behavior.\n",
            "  _warn_prf(average, modifier, f\"{metric.capitalize()} is\", len(result))\n"
          ]
        }
      ],
      "source": [
        "svm = SVC(kernel='rbf',C=0.1,gamma=0.5,random_state=42)\n",
        "svm.fit(X_train, y_train)\n",
        "svm_predictions = svm.predict(X_test)\n",
        "svm_accuracy = accuracy_score(y_test, svm_predictions)\n",
        "print('SVM Accuracy:', svm_accuracy)\n",
        "print(classification_report(y_test, svm_predictions))"
      ]
    },
    {
      "cell_type": "markdown",
      "metadata": {
        "id": "MFETzXUC5XQM"
      },
      "source": [
        "- Confusion Matrix"
      ]
    },
    {
      "cell_type": "code",
      "execution_count": null,
      "metadata": {
        "colab": {
          "base_uri": "https://localhost:8080/"
        },
        "id": "efd3TQ3o5bly",
        "outputId": "307d222a-093c-46a0-e396-22853bfd8cfa"
      },
      "outputs": [
        {
          "output_type": "execute_result",
          "data": {
            "text/plain": [
              "array([[ 0, 33,  0,  0,  0,  0,  0,  0,  0,  0],\n",
              "       [ 0, 28,  0,  0,  0,  0,  0,  0,  0,  0],\n",
              "       [ 0, 33,  0,  0,  0,  0,  0,  0,  0,  0],\n",
              "       [ 0, 34,  0,  0,  0,  0,  0,  0,  0,  0],\n",
              "       [ 0, 46,  0,  0,  0,  0,  0,  0,  0,  0],\n",
              "       [ 0, 47,  0,  0,  0,  0,  0,  0,  0,  0],\n",
              "       [ 0, 35,  0,  0,  0,  0,  0,  0,  0,  0],\n",
              "       [ 0, 34,  0,  0,  0,  0,  0,  0,  0,  0],\n",
              "       [ 0, 30,  0,  0,  0,  0,  0,  0,  0,  0],\n",
              "       [ 0, 40,  0,  0,  0,  0,  0,  0,  0,  0]])"
            ]
          },
          "metadata": {},
          "execution_count": 82
        }
      ],
      "source": [
        "confusion_matrix(y_test,svm_predictions)"
      ]
    },
    {
      "cell_type": "markdown",
      "metadata": {
        "id": "0Dyrv1c75fFP"
      },
      "source": [
        "- With C=1 and gamma=0.5"
      ]
    },
    {
      "cell_type": "code",
      "execution_count": null,
      "metadata": {
        "colab": {
          "base_uri": "https://localhost:8080/"
        },
        "id": "Laiq5HS05hVU",
        "outputId": "8d268460-977d-4dae-8742-82d25e43faf5"
      },
      "outputs": [
        {
          "output_type": "stream",
          "name": "stdout",
          "text": [
            "SVM Accuracy: 0.07777777777777778\n",
            "              precision    recall  f1-score   support\n",
            "\n",
            "           0       0.00      0.00      0.00        33\n",
            "           1       0.08      1.00      0.14        28\n",
            "           2       0.00      0.00      0.00        33\n",
            "           3       0.00      0.00      0.00        34\n",
            "           4       0.00      0.00      0.00        46\n",
            "           5       0.00      0.00      0.00        47\n",
            "           6       0.00      0.00      0.00        35\n",
            "           7       0.00      0.00      0.00        34\n",
            "           8       0.00      0.00      0.00        30\n",
            "           9       0.00      0.00      0.00        40\n",
            "\n",
            "    accuracy                           0.08       360\n",
            "   macro avg       0.01      0.10      0.01       360\n",
            "weighted avg       0.01      0.08      0.01       360\n",
            "\n"
          ]
        },
        {
          "output_type": "stream",
          "name": "stderr",
          "text": [
            "/usr/local/lib/python3.12/dist-packages/sklearn/metrics/_classification.py:1565: UndefinedMetricWarning: Precision is ill-defined and being set to 0.0 in labels with no predicted samples. Use `zero_division` parameter to control this behavior.\n",
            "  _warn_prf(average, modifier, f\"{metric.capitalize()} is\", len(result))\n",
            "/usr/local/lib/python3.12/dist-packages/sklearn/metrics/_classification.py:1565: UndefinedMetricWarning: Precision is ill-defined and being set to 0.0 in labels with no predicted samples. Use `zero_division` parameter to control this behavior.\n",
            "  _warn_prf(average, modifier, f\"{metric.capitalize()} is\", len(result))\n",
            "/usr/local/lib/python3.12/dist-packages/sklearn/metrics/_classification.py:1565: UndefinedMetricWarning: Precision is ill-defined and being set to 0.0 in labels with no predicted samples. Use `zero_division` parameter to control this behavior.\n",
            "  _warn_prf(average, modifier, f\"{metric.capitalize()} is\", len(result))\n"
          ]
        }
      ],
      "source": [
        "svm = SVC(kernel='rbf',C=1,gamma=0.5,random_state=42)\n",
        "svm.fit(X_train, y_train)\n",
        "svm_predictions = svm.predict(X_test)\n",
        "svm_accuracy = accuracy_score(y_test, svm_predictions)\n",
        "print('SVM Accuracy:', svm_accuracy)\n",
        "print(classification_report(y_test, svm_predictions))"
      ]
    },
    {
      "cell_type": "markdown",
      "metadata": {
        "id": "k69kZt_75jcb"
      },
      "source": [
        "- Confusion Matrix"
      ]
    },
    {
      "cell_type": "code",
      "execution_count": null,
      "metadata": {
        "colab": {
          "base_uri": "https://localhost:8080/"
        },
        "id": "K5rQCQ3_5k44",
        "outputId": "9f8cccdc-ddbd-4d18-f100-d4fff365bb0f"
      },
      "outputs": [
        {
          "output_type": "execute_result",
          "data": {
            "text/plain": [
              "array([[ 0, 33,  0,  0,  0,  0,  0,  0,  0,  0],\n",
              "       [ 0, 28,  0,  0,  0,  0,  0,  0,  0,  0],\n",
              "       [ 0, 33,  0,  0,  0,  0,  0,  0,  0,  0],\n",
              "       [ 0, 34,  0,  0,  0,  0,  0,  0,  0,  0],\n",
              "       [ 0, 46,  0,  0,  0,  0,  0,  0,  0,  0],\n",
              "       [ 0, 47,  0,  0,  0,  0,  0,  0,  0,  0],\n",
              "       [ 0, 35,  0,  0,  0,  0,  0,  0,  0,  0],\n",
              "       [ 0, 34,  0,  0,  0,  0,  0,  0,  0,  0],\n",
              "       [ 0, 30,  0,  0,  0,  0,  0,  0,  0,  0],\n",
              "       [ 0, 40,  0,  0,  0,  0,  0,  0,  0,  0]])"
            ]
          },
          "metadata": {},
          "execution_count": 84
        }
      ],
      "source": [
        "confusion_matrix(y_test,svm_predictions)"
      ]
    },
    {
      "cell_type": "markdown",
      "metadata": {
        "id": "kRA7e3hxbMiB"
      },
      "source": [
        "## MLP"
      ]
    },
    {
      "cell_type": "markdown",
      "metadata": {
        "id": "CJFbF0WFbVjK"
      },
      "source": [
        "### RELU + ADAM\n",
        "- With thirty hidden layers, 1000 maximum iteractions, activation='relu', solver='adam' and alpha=0.001"
      ]
    },
    {
      "cell_type": "code",
      "execution_count": null,
      "metadata": {
        "colab": {
          "base_uri": "https://localhost:8080/"
        },
        "id": "6oDU1mi1bN0E",
        "outputId": "7ec45bcb-c065-47b8-cfb2-9204393dad6b"
      },
      "outputs": [
        {
          "output_type": "stream",
          "name": "stdout",
          "text": [
            "MLP Accuracy: 0.9777777777777777\n",
            "              precision    recall  f1-score   support\n",
            "\n",
            "           0       0.97      0.97      0.97        33\n",
            "           1       0.97      1.00      0.98        28\n",
            "           2       0.97      0.97      0.97        33\n",
            "           3       0.97      0.97      0.97        34\n",
            "           4       1.00      1.00      1.00        46\n",
            "           5       0.96      0.98      0.97        47\n",
            "           6       0.97      0.97      0.97        35\n",
            "           7       1.00      0.97      0.99        34\n",
            "           8       1.00      0.93      0.97        30\n",
            "           9       0.98      1.00      0.99        40\n",
            "\n",
            "    accuracy                           0.98       360\n",
            "   macro avg       0.98      0.98      0.98       360\n",
            "weighted avg       0.98      0.98      0.98       360\n",
            "\n"
          ]
        }
      ],
      "source": [
        "mlp = MLPClassifier(hidden_layer_sizes=(30,), activation='relu', solver='adam', alpha=0.001, max_iter=1000, random_state=42)\n",
        "mlp.fit(X_train, y_train)\n",
        "mlp_predictions = mlp.predict(X_test)\n",
        "mlp_accuracy = accuracy_score(y_test, mlp_predictions)\n",
        "print('MLP Accuracy:', mlp_accuracy)\n",
        "print(classification_report(y_test, mlp_predictions))"
      ]
    },
    {
      "cell_type": "markdown",
      "metadata": {
        "id": "cUFvNM3qbjFC"
      },
      "source": [
        "- Confusion Matrix"
      ]
    },
    {
      "cell_type": "code",
      "execution_count": null,
      "metadata": {
        "colab": {
          "base_uri": "https://localhost:8080/"
        },
        "id": "wRhz_Fk6bkdW",
        "outputId": "9f35cfd2-13cc-4a95-d298-db0d185d00f3"
      },
      "outputs": [
        {
          "output_type": "execute_result",
          "data": {
            "text/plain": [
              "array([[32,  0,  1,  0,  0,  0,  0,  0,  0,  0],\n",
              "       [ 0, 28,  0,  0,  0,  0,  0,  0,  0,  0],\n",
              "       [ 0,  0, 32,  1,  0,  0,  0,  0,  0,  0],\n",
              "       [ 0,  0,  0, 33,  0,  1,  0,  0,  0,  0],\n",
              "       [ 0,  0,  0,  0, 46,  0,  0,  0,  0,  0],\n",
              "       [ 0,  0,  0,  0,  0, 46,  1,  0,  0,  0],\n",
              "       [ 1,  0,  0,  0,  0,  0, 34,  0,  0,  0],\n",
              "       [ 0,  0,  0,  0,  0,  0,  0, 33,  0,  1],\n",
              "       [ 0,  1,  0,  0,  0,  1,  0,  0, 28,  0],\n",
              "       [ 0,  0,  0,  0,  0,  0,  0,  0,  0, 40]])"
            ]
          },
          "metadata": {},
          "execution_count": 86
        }
      ],
      "source": [
        "confusion_matrix(y_test,mlp_predictions)"
      ]
    },
    {
      "cell_type": "markdown",
      "metadata": {
        "id": "qs_AmSPzbpU9"
      },
      "source": [
        "### RELU + LBFGS\n",
        "- With thirty hidden layers, 1000 maximum iteractions, activation='relu', solver='lbfgs' and alpha=0.001"
      ]
    },
    {
      "cell_type": "code",
      "execution_count": null,
      "metadata": {
        "colab": {
          "base_uri": "https://localhost:8080/"
        },
        "id": "1Kq211PEbv0-",
        "outputId": "4900772f-cd09-42d0-a83f-e149240e5d77"
      },
      "outputs": [
        {
          "output_type": "stream",
          "name": "stdout",
          "text": [
            "MLP Accuracy: 0.9555555555555556\n",
            "              precision    recall  f1-score   support\n",
            "\n",
            "           0       1.00      1.00      1.00        33\n",
            "           1       0.84      0.96      0.90        28\n",
            "           2       0.94      0.91      0.92        33\n",
            "           3       0.97      0.97      0.97        34\n",
            "           4       1.00      0.96      0.98        46\n",
            "           5       0.94      0.98      0.96        47\n",
            "           6       0.94      0.97      0.96        35\n",
            "           7       1.00      0.94      0.97        34\n",
            "           8       0.96      0.87      0.91        30\n",
            "           9       0.95      0.97      0.96        40\n",
            "\n",
            "    accuracy                           0.96       360\n",
            "   macro avg       0.95      0.95      0.95       360\n",
            "weighted avg       0.96      0.96      0.96       360\n",
            "\n"
          ]
        }
      ],
      "source": [
        "mlp = MLPClassifier(hidden_layer_sizes=(30,), activation='relu', solver='lbfgs', alpha=0.001, max_iter=1000, random_state=42)\n",
        "mlp.fit(X_train, y_train)\n",
        "mlp_predictions = mlp.predict(X_test)\n",
        "mlp_accuracy = accuracy_score(y_test, mlp_predictions)\n",
        "print('MLP Accuracy:', mlp_accuracy)\n",
        "print(classification_report(y_test, mlp_predictions))"
      ]
    },
    {
      "cell_type": "markdown",
      "metadata": {
        "id": "qgA_DngEb1MI"
      },
      "source": [
        "- Confusion Matrix"
      ]
    },
    {
      "cell_type": "code",
      "execution_count": null,
      "metadata": {
        "colab": {
          "base_uri": "https://localhost:8080/"
        },
        "id": "ucXNEDW4bz2A",
        "outputId": "4868f607-ec81-48f4-c7e3-802f9664df97"
      },
      "outputs": [
        {
          "output_type": "execute_result",
          "data": {
            "text/plain": [
              "array([[33,  0,  0,  0,  0,  0,  0,  0,  0,  0],\n",
              "       [ 0, 27,  1,  0,  0,  0,  0,  0,  0,  0],\n",
              "       [ 0,  2, 30,  1,  0,  0,  0,  0,  0,  0],\n",
              "       [ 0,  0,  0, 33,  0,  1,  0,  0,  0,  0],\n",
              "       [ 0,  1,  0,  0, 44,  0,  1,  0,  0,  0],\n",
              "       [ 0,  0,  0,  0,  0, 46,  1,  0,  0,  0],\n",
              "       [ 0,  0,  0,  0,  0,  1, 34,  0,  0,  0],\n",
              "       [ 0,  0,  0,  0,  0,  0,  0, 32,  0,  2],\n",
              "       [ 0,  2,  1,  0,  0,  1,  0,  0, 26,  0],\n",
              "       [ 0,  0,  0,  0,  0,  0,  0,  0,  1, 39]])"
            ]
          },
          "metadata": {},
          "execution_count": 88
        }
      ],
      "source": [
        "confusion_matrix(y_test,mlp_predictions)"
      ]
    },
    {
      "cell_type": "markdown",
      "metadata": {
        "id": "MGnHKXu_4fB-"
      },
      "source": [
        "# MNIST Dataset"
      ]
    },
    {
      "cell_type": "markdown",
      "metadata": {
        "id": "jN3C1El55d7K"
      },
      "source": [
        "- Upload MNIST Dataset"
      ]
    },
    {
      "cell_type": "code",
      "execution_count": 2,
      "metadata": {
        "id": "A8ZjlXxp5mNt"
      },
      "outputs": [],
      "source": [
        "from sklearn.datasets import fetch_openml\n",
        "\n",
        "mnist = fetch_openml('mnist_784', version=1)\n",
        "X,y = mnist.data, mnist.target.astype(int)\n",
        "\n",
        "# Normalization\n",
        "X = X/255.0"
      ]
    },
    {
      "cell_type": "markdown",
      "metadata": {
        "id": "McehNlSG620m"
      },
      "source": [
        "- Data Analysis"
      ]
    },
    {
      "cell_type": "code",
      "execution_count": 3,
      "metadata": {
        "colab": {
          "base_uri": "https://localhost:8080/",
          "height": 227
        },
        "id": "Srqrguvu65vi",
        "outputId": "cc128108-5b53-429e-fb61-8b85f6898e04"
      },
      "outputs": [
        {
          "output_type": "stream",
          "name": "stdout",
          "text": [
            "Dimensions of data:  (70000, 784)\n",
            "Dimensions of each image:  (28, 28)\n"
          ]
        },
        {
          "output_type": "display_data",
          "data": {
            "text/plain": [
              "<Figure size 1000x200 with 5 Axes>"
            ],
            "image/png": "[encoded data removed]"
          },
          "metadata": {}
        }
      ],
      "source": [
        "import matplotlib.pyplot as plt\n",
        "\n",
        "print(\"Dimensions of data: \",mnist.data.shape)\n",
        "\n",
        "img_dimensions = X.iloc[0].values.reshape(28,28).shape\n",
        "print(\"Dimensions of each image: \", img_dimensions)\n",
        "\n",
        "\n",
        "plt.figure(figsize=(10, 2))\n",
        "for i in range(5):\n",
        "    plt.subplot(1, 5, i + 1)\n",
        "    plt.imshow(X.iloc[i].values.reshape(28, 28), cmap=\"gray\")\n",
        "    plt.title(f\"Label: {y[i]}\")\n",
        "    plt.axis(\"off\")\n",
        "plt.show()"
      ]
    },
    {
      "cell_type": "markdown",
      "metadata": {
        "id": "N2Qn3aj4JWTd"
      },
      "source": [
        "- Check the balancemnet of the dataset"
      ]
    },
    {
      "cell_type": "code",
      "execution_count": 4,
      "metadata": {
        "colab": {
          "base_uri": "https://localhost:8080/",
          "height": 693
        },
        "id": "xdUa1l3HJaVu",
        "outputId": "4fa6115a-08a9-4e0b-be49-2192e8945ab1"
      },
      "outputs": [
        {
          "output_type": "stream",
          "name": "stdout",
          "text": [
            "Class distribution in MNIST dataset:\n",
            "Class\n",
            "1    7877\n",
            "7    7293\n",
            "3    7141\n",
            "2    6990\n",
            "9    6958\n",
            "0    6903\n",
            "6    6876\n",
            "8    6825\n",
            "4    6824\n",
            "5    6313\n",
            "Name: count, dtype: int64\n"
          ]
        },
        {
          "output_type": "display_data",
          "data": {
            "text/plain": [
              "<Figure size 640x480 with 1 Axes>"
            ],
            "image/png": "[encoded data removed]"
          },
          "metadata": {}
        }
      ],
      "source": [
        "import pandas as pd\n",
        "\n",
        "y_series = pd.Series(y, name=\"Class\")\n",
        "\n",
        "class_counts = y_series.value_counts()\n",
        "\n",
        "print(\"Class distribution in MNIST dataset:\")\n",
        "print(class_counts)\n",
        "\n",
        "class_counts.plot(kind='bar')\n",
        "plt.title('Distribution of MNIST Classes')\n",
        "plt.xlabel('Class')\n",
        "plt.ylabel('Number of Samples')\n",
        "plt.show()"
      ]
    },
    {
      "cell_type": "markdown",
      "metadata": {
        "id": "0bQ81Zre6ptn"
      },
      "source": [
        "- Train and Test split (80%,20%)"
      ]
    },
    {
      "cell_type": "code",
      "execution_count": 7,
      "metadata": {
        "id": "QDkkE1Kn6yEO"
      },
      "outputs": [],
      "source": [
        "X_train, X_test, y_train, y_test = train_test_split(X, y, test_size=0.2, random_state=42)"
      ]
    },
    {
      "cell_type": "markdown",
      "metadata": {
        "id": "yOoOqxEB8hDK"
      },
      "source": [
        "## KNN"
      ]
    },
    {
      "cell_type": "markdown",
      "metadata": {
        "id": "DvL3pVfb8lii"
      },
      "source": [
        "### With three neighbors"
      ]
    },
    {
      "cell_type": "markdown",
      "metadata": {
        "id": "DSEkTEkAt169"
      },
      "source": [
        "- With weights='auto'"
      ]
    },
    {
      "cell_type": "code",
      "execution_count": null,
      "metadata": {
        "colab": {
          "base_uri": "https://localhost:8080/"
        },
        "id": "OycuvKqH8jDg",
        "outputId": "afc0245a-f71e-443b-95ce-e1e6dd8954e7"
      },
      "outputs": [
        {
          "output_type": "stream",
          "name": "stdout",
          "text": [
            "KNN Accuracy: 0.9712857142857143\n",
            "              precision    recall  f1-score   support\n",
            "\n",
            "           0       0.98      0.99      0.98      1343\n",
            "           1       0.96      0.99      0.98      1600\n",
            "           2       0.97      0.97      0.97      1380\n",
            "           3       0.97      0.96      0.97      1433\n",
            "           4       0.97      0.96      0.97      1295\n",
            "           5       0.98      0.97      0.97      1273\n",
            "           6       0.98      0.99      0.99      1396\n",
            "           7       0.97      0.98      0.97      1503\n",
            "           8       0.99      0.94      0.96      1357\n",
            "           9       0.96      0.95      0.96      1420\n",
            "\n",
            "    accuracy                           0.97     14000\n",
            "   macro avg       0.97      0.97      0.97     14000\n",
            "weighted avg       0.97      0.97      0.97     14000\n",
            "\n"
          ]
        }
      ],
      "source": [
        "knn = KNeighborsClassifier(n_neighbors=3)\n",
        "knn.fit(X_train, y_train)\n",
        "knn_predictions = knn.predict(X_test)\n",
        "knn_accuracy = accuracy_score(y_test, knn_predictions)\n",
        "print('KNN Accuracy:', knn_accuracy)\n",
        "print(classification_report(y_test, knn_predictions))"
      ]
    },
    {
      "cell_type": "markdown",
      "metadata": {
        "id": "Y-K_qLxz86OD"
      },
      "source": [
        "- Confusion Matrix"
      ]
    },
    {
      "cell_type": "code",
      "execution_count": null,
      "metadata": {
        "colab": {
          "base_uri": "https://localhost:8080/"
        },
        "id": "8SP3nWDu870Y",
        "outputId": "34d88407-11fc-4376-9cf9-b4e5b4c1126b"
      },
      "outputs": [
        {
          "output_type": "execute_result",
          "data": {
            "text/plain": [
              "array([[1335,    0,    5,    0,    0,    0,    1,    1,    1,    0],\n",
              "       [   0, 1591,    3,    0,    1,    1,    0,    3,    0,    1],\n",
              "       [   8,   14, 1333,    1,    1,    1,    4,   13,    3,    2],\n",
              "       [   0,    3,   12, 1382,    0,   10,    2,   10,    7,    7],\n",
              "       [   3,    9,    1,    0, 1248,    0,    2,    4,    1,   27],\n",
              "       [   4,    5,    0,   13,    4, 1234,   12,    0,    1,    0],\n",
              "       [   5,    1,    0,    0,    4,    3, 1383,    0,    0,    0],\n",
              "       [   1,   17,    4,    0,    2,    0,    0, 1467,    1,   11],\n",
              "       [   6,   13,    8,   21,    4,   16,    3,    6, 1269,   11],\n",
              "       [   6,    6,    3,   14,   20,    0,    0,   14,    1, 1356]])"
            ]
          },
          "metadata": {},
          "execution_count": 94
        }
      ],
      "source": [
        "confusion_matrix(y_test,knn_predictions)"
      ]
    },
    {
      "cell_type": "markdown",
      "metadata": {
        "id": "XJ7B_G2vuOVE"
      },
      "source": [
        "- With weights='distance'"
      ]
    },
    {
      "cell_type": "code",
      "execution_count": null,
      "metadata": {
        "colab": {
          "base_uri": "https://localhost:8080/"
        },
        "id": "v00jONPWuRkq",
        "outputId": "ec7a5889-3e8b-456b-b6b7-9eb5bd022811"
      },
      "outputs": [
        {
          "output_type": "stream",
          "name": "stdout",
          "text": [
            "KNN Accuracy: 0.9728571428571429\n",
            "              precision    recall  f1-score   support\n",
            "\n",
            "           0       0.98      0.99      0.99      1343\n",
            "           1       0.96      0.99      0.98      1600\n",
            "           2       0.98      0.96      0.97      1380\n",
            "           3       0.97      0.96      0.97      1433\n",
            "           4       0.97      0.97      0.97      1295\n",
            "           5       0.97      0.97      0.97      1273\n",
            "           6       0.98      0.99      0.99      1396\n",
            "           7       0.97      0.98      0.97      1503\n",
            "           8       0.99      0.94      0.96      1357\n",
            "           9       0.96      0.96      0.96      1420\n",
            "\n",
            "    accuracy                           0.97     14000\n",
            "   macro avg       0.97      0.97      0.97     14000\n",
            "weighted avg       0.97      0.97      0.97     14000\n",
            "\n"
          ]
        }
      ],
      "source": [
        "knn = KNeighborsClassifier(n_neighbors=3,weights='distance')\n",
        "knn.fit(X_train, y_train)\n",
        "knn_predictions = knn.predict(X_test)\n",
        "knn_accuracy = accuracy_score(y_test, knn_predictions)\n",
        "print('KNN Accuracy:', knn_accuracy)\n",
        "print(classification_report(y_test, knn_predictions))"
      ]
    },
    {
      "cell_type": "markdown",
      "metadata": {
        "id": "fqWlhC9tuUuI"
      },
      "source": [
        "- Confusion Matrix"
      ]
    },
    {
      "cell_type": "code",
      "execution_count": null,
      "metadata": {
        "colab": {
          "base_uri": "https://localhost:8080/"
        },
        "id": "ircSU0OOuW1R",
        "outputId": "540d926e-e5bd-45bb-9ba2-c5f78867ae87"
      },
      "outputs": [
        {
          "output_type": "execute_result",
          "data": {
            "text/plain": [
              "array([[1335,    0,    4,    0,    0,    0,    1,    1,    1,    1],\n",
              "       [   0, 1591,    3,    0,    1,    1,    0,    3,    0,    1],\n",
              "       [   6,   15, 1331,    1,    1,    1,    4,   13,    5,    3],\n",
              "       [   0,    3,   12, 1382,    0,    9,    2,   11,    7,    7],\n",
              "       [   2,    6,    1,    0, 1251,    0,    2,    5,    1,   27],\n",
              "       [   2,    5,    0,   11,    4, 1238,   12,    0,    1,    0],\n",
              "       [   4,    1,    0,    0,    4,    3, 1383,    0,    1,    0],\n",
              "       [   1,   17,    3,    1,    2,    0,    0, 1467,    1,   11],\n",
              "       [   3,   12,    5,   18,    2,   17,    4,    6, 1278,   12],\n",
              "       [   6,    4,    3,    8,   19,    1,    0,   14,    1, 1364]])"
            ]
          },
          "metadata": {},
          "execution_count": 96
        }
      ],
      "source": [
        "confusion_matrix(y_test,knn_predictions)"
      ]
    },
    {
      "cell_type": "markdown",
      "metadata": {
        "id": "Yl-GVamw89jO"
      },
      "source": [
        "### With five neighbors"
      ]
    },
    {
      "cell_type": "markdown",
      "metadata": {
        "id": "rTvNp0ctuiBs"
      },
      "source": [
        "- With weights='auto'"
      ]
    },
    {
      "cell_type": "code",
      "execution_count": null,
      "metadata": {
        "colab": {
          "base_uri": "https://localhost:8080/"
        },
        "id": "BpuWJYbU8_ev",
        "outputId": "bc970960-5337-4ceb-ed43-f11cec320a1f"
      },
      "outputs": [
        {
          "output_type": "stream",
          "name": "stdout",
          "text": [
            "KNN Accuracy: 0.9700714285714286\n",
            "              precision    recall  f1-score   support\n",
            "\n",
            "           0       0.98      0.99      0.99      1343\n",
            "           1       0.96      0.99      0.98      1600\n",
            "           2       0.98      0.96      0.97      1380\n",
            "           3       0.97      0.97      0.97      1433\n",
            "           4       0.97      0.97      0.97      1295\n",
            "           5       0.97      0.97      0.97      1273\n",
            "           6       0.98      0.99      0.98      1396\n",
            "           7       0.96      0.97      0.97      1503\n",
            "           8       0.99      0.93      0.96      1357\n",
            "           9       0.95      0.96      0.96      1420\n",
            "\n",
            "    accuracy                           0.97     14000\n",
            "   macro avg       0.97      0.97      0.97     14000\n",
            "weighted avg       0.97      0.97      0.97     14000\n",
            "\n"
          ]
        }
      ],
      "source": [
        "knn = KNeighborsClassifier(n_neighbors=5)\n",
        "knn.fit(X_train, y_train)\n",
        "knn_predictions = knn.predict(X_test)\n",
        "knn_accuracy = accuracy_score(y_test, knn_predictions)\n",
        "print('KNN Accuracy:', knn_accuracy)\n",
        "print(classification_report(y_test, knn_predictions))"
      ]
    },
    {
      "cell_type": "markdown",
      "metadata": {
        "id": "_ugNd2Ro9TQg"
      },
      "source": [
        "- Confusion Matrix"
      ]
    },
    {
      "cell_type": "code",
      "execution_count": null,
      "metadata": {
        "colab": {
          "base_uri": "https://localhost:8080/"
        },
        "id": "40aS4mbG9VKF",
        "outputId": "b3b542ef-99b7-4b1e-8679-809875cc4517"
      },
      "outputs": [
        {
          "output_type": "execute_result",
          "data": {
            "text/plain": [
              "array([[1336,    0,    3,    0,    0,    0,    2,    1,    1,    0],\n",
              "       [   0, 1592,    2,    0,    1,    1,    0,    3,    0,    1],\n",
              "       [   7,   17, 1323,    1,    4,    1,    5,   17,    3,    2],\n",
              "       [   0,    2,   12, 1384,    1,    8,    2,    7,    7,   10],\n",
              "       [   3,    8,    1,    0, 1251,    0,    2,    3,    1,   26],\n",
              "       [   2,    5,    0,   16,    2, 1232,   13,    0,    1,    2],\n",
              "       [   5,    1,    0,    0,    5,    6, 1379,    0,    0,    0],\n",
              "       [   1,   21,    4,    0,    4,    0,    0, 1458,    1,   14],\n",
              "       [   4,   13,    6,   22,    2,   19,    4,   10, 1267,   10],\n",
              "       [   6,    5,    2,   11,   19,    0,    0,   17,    1, 1359]])"
            ]
          },
          "metadata": {},
          "execution_count": 98
        }
      ],
      "source": [
        "confusion_matrix(y_test,knn_predictions)"
      ]
    },
    {
      "cell_type": "markdown",
      "metadata": {
        "id": "hYipZuZhukon"
      },
      "source": [
        "- With weights='distance'"
      ]
    },
    {
      "cell_type": "code",
      "execution_count": null,
      "metadata": {
        "colab": {
          "base_uri": "https://localhost:8080/"
        },
        "id": "suZ8Yd-kuqBS",
        "outputId": "267f1b95-e000-4db8-820a-8e1849ac44bc"
      },
      "outputs": [
        {
          "output_type": "stream",
          "name": "stdout",
          "text": [
            "KNN Accuracy: 0.972\n",
            "              precision    recall  f1-score   support\n",
            "\n",
            "           0       0.98      0.99      0.99      1343\n",
            "           1       0.96      0.99      0.98      1600\n",
            "           2       0.98      0.96      0.97      1380\n",
            "           3       0.97      0.97      0.97      1433\n",
            "           4       0.98      0.97      0.97      1295\n",
            "           5       0.97      0.97      0.97      1273\n",
            "           6       0.98      0.99      0.98      1396\n",
            "           7       0.96      0.97      0.97      1503\n",
            "           8       0.99      0.94      0.96      1357\n",
            "           9       0.95      0.96      0.96      1420\n",
            "\n",
            "    accuracy                           0.97     14000\n",
            "   macro avg       0.97      0.97      0.97     14000\n",
            "weighted avg       0.97      0.97      0.97     14000\n",
            "\n"
          ]
        }
      ],
      "source": [
        "knn = KNeighborsClassifier(n_neighbors=5,weights='distance')\n",
        "knn.fit(X_train, y_train)\n",
        "knn_predictions = knn.predict(X_test)\n",
        "knn_accuracy = accuracy_score(y_test, knn_predictions)\n",
        "print('KNN Accuracy:', knn_accuracy)\n",
        "print(classification_report(y_test, knn_predictions))"
      ]
    },
    {
      "cell_type": "markdown",
      "metadata": {
        "id": "vR-B_SzCutWT"
      },
      "source": [
        "- Confusion Matrix"
      ]
    },
    {
      "cell_type": "code",
      "execution_count": null,
      "metadata": {
        "colab": {
          "base_uri": "https://localhost:8080/"
        },
        "id": "HQFA-4UQuxNk",
        "outputId": "06acd175-96a0-4f0d-c266-cb4f944ba0e5"
      },
      "outputs": [
        {
          "output_type": "execute_result",
          "data": {
            "text/plain": [
              "array([[1336,    0,    2,    0,    0,    0,    3,    1,    1,    0],\n",
              "       [   0, 1592,    2,    0,    1,    1,    0,    3,    0,    1],\n",
              "       [   7,   16, 1324,    1,    2,    1,    5,   17,    3,    4],\n",
              "       [   0,    2,   12, 1383,    1,    8,    2,    7,    8,   10],\n",
              "       [   3,    7,    1,    0, 1252,    0,    2,    3,    1,   26],\n",
              "       [   1,    4,    0,   14,    2, 1235,   12,    0,    2,    3],\n",
              "       [   5,    1,    0,    0,    4,    5, 1380,    0,    1,    0],\n",
              "       [   1,   20,    4,    0,    2,    0,    0, 1461,    1,   14],\n",
              "       [   3,   12,    3,   19,    2,   17,    4,   10, 1276,   11],\n",
              "       [   3,    4,    2,    9,   18,    1,    0,   13,    1, 1369]])"
            ]
          },
          "metadata": {},
          "execution_count": 100
        }
      ],
      "source": [
        "confusion_matrix(y_test,knn_predictions)"
      ]
    },
    {
      "cell_type": "markdown",
      "metadata": {
        "id": "F1JYwTfJuyRn"
      },
      "source": [
        "### With seven neighbors"
      ]
    },
    {
      "cell_type": "markdown",
      "metadata": {
        "id": "6KuB3jA5u4tN"
      },
      "source": [
        "- With weights='auto'"
      ]
    },
    {
      "cell_type": "code",
      "execution_count": null,
      "metadata": {
        "colab": {
          "base_uri": "https://localhost:8080/"
        },
        "id": "ozpgymHUu106",
        "outputId": "60b1a007-d05e-4ca8-fa42-e0abc82fcfd5"
      },
      "outputs": [
        {
          "output_type": "stream",
          "name": "stdout",
          "text": [
            "KNN Accuracy: 0.9687142857142857\n",
            "              precision    recall  f1-score   support\n",
            "\n",
            "           0       0.98      0.99      0.99      1343\n",
            "           1       0.95      1.00      0.97      1600\n",
            "           2       0.98      0.96      0.97      1380\n",
            "           3       0.96      0.96      0.96      1433\n",
            "           4       0.98      0.96      0.97      1295\n",
            "           5       0.97      0.97      0.97      1273\n",
            "           6       0.98      0.99      0.98      1396\n",
            "           7       0.96      0.97      0.96      1503\n",
            "           8       0.99      0.93      0.96      1357\n",
            "           9       0.95      0.96      0.95      1420\n",
            "\n",
            "    accuracy                           0.97     14000\n",
            "   macro avg       0.97      0.97      0.97     14000\n",
            "weighted avg       0.97      0.97      0.97     14000\n",
            "\n"
          ]
        }
      ],
      "source": [
        "knn = KNeighborsClassifier(n_neighbors=7)\n",
        "knn.fit(X_train, y_train)\n",
        "knn_predictions = knn.predict(X_test)\n",
        "knn_accuracy = accuracy_score(y_test, knn_predictions)\n",
        "print('KNN Accuracy:', knn_accuracy)\n",
        "print(classification_report(y_test, knn_predictions))"
      ]
    },
    {
      "cell_type": "markdown",
      "metadata": {
        "id": "0aTBejVMvBCy"
      },
      "source": [
        "- Confusion Matrix"
      ]
    },
    {
      "cell_type": "code",
      "execution_count": null,
      "metadata": {
        "colab": {
          "base_uri": "https://localhost:8080/"
        },
        "id": "NQniU022vEBl",
        "outputId": "6171f8e3-22e7-4544-9705-7052ba7c7544"
      },
      "outputs": [
        {
          "output_type": "execute_result",
          "data": {
            "text/plain": [
              "array([[1333,    0,    4,    0,    1,    0,    3,    1,    1,    0],\n",
              "       [   0, 1594,    1,    0,    1,    0,    0,    3,    0,    1],\n",
              "       [   7,   19, 1318,    2,    3,    1,    6,   15,    6,    3],\n",
              "       [   0,    4,    9, 1380,    1,    8,    2,   12,    6,   11],\n",
              "       [   3,    8,    1,    0, 1249,    0,    3,    2,    1,   28],\n",
              "       [   2,    7,    0,   15,    2, 1229,   13,    0,    2,    3],\n",
              "       [   4,    2,    0,    0,    3,    6, 1381,    0,    0,    0],\n",
              "       [   1,   21,    4,    0,    4,    0,    0, 1456,    1,   16],\n",
              "       [   4,   14,    6,   25,    3,   21,    3,   12, 1259,   10],\n",
              "       [   5,    5,    2,   12,   14,    1,    0,   17,    1, 1363]])"
            ]
          },
          "metadata": {},
          "execution_count": 102
        }
      ],
      "source": [
        "confusion_matrix(y_test,knn_predictions)"
      ]
    },
    {
      "cell_type": "markdown",
      "metadata": {
        "id": "kAbllBtbvEiy"
      },
      "source": [
        "- With weights='distance'"
      ]
    },
    {
      "cell_type": "code",
      "execution_count": null,
      "metadata": {
        "colab": {
          "base_uri": "https://localhost:8080/"
        },
        "id": "NxEtf6V7vNFs",
        "outputId": "2d289680-1621-4842-fc9e-496947d694a1"
      },
      "outputs": [
        {
          "output_type": "stream",
          "name": "stdout",
          "text": [
            "KNN Accuracy: 0.9702857142857143\n",
            "              precision    recall  f1-score   support\n",
            "\n",
            "           0       0.98      0.99      0.99      1343\n",
            "           1       0.95      1.00      0.97      1600\n",
            "           2       0.98      0.96      0.97      1380\n",
            "           3       0.97      0.96      0.96      1433\n",
            "           4       0.98      0.96      0.97      1295\n",
            "           5       0.98      0.97      0.97      1273\n",
            "           6       0.98      0.99      0.98      1396\n",
            "           7       0.96      0.97      0.96      1503\n",
            "           8       0.99      0.94      0.96      1357\n",
            "           9       0.95      0.96      0.96      1420\n",
            "\n",
            "    accuracy                           0.97     14000\n",
            "   macro avg       0.97      0.97      0.97     14000\n",
            "weighted avg       0.97      0.97      0.97     14000\n",
            "\n"
          ]
        }
      ],
      "source": [
        "knn = KNeighborsClassifier(n_neighbors=7,weights='distance')\n",
        "knn.fit(X_train, y_train)\n",
        "knn_predictions = knn.predict(X_test)\n",
        "knn_accuracy = accuracy_score(y_test, knn_predictions)\n",
        "print('KNN Accuracy:', knn_accuracy)\n",
        "print(classification_report(y_test, knn_predictions))"
      ]
    },
    {
      "cell_type": "markdown",
      "metadata": {
        "id": "frdw-oKmvRC5"
      },
      "source": [
        "- Confusion Matrix"
      ]
    },
    {
      "cell_type": "code",
      "execution_count": null,
      "metadata": {
        "colab": {
          "base_uri": "https://localhost:8080/"
        },
        "id": "8eu2ImkLvTcy",
        "outputId": "f774ff28-aa56-45f4-c641-0e1592732a35"
      },
      "outputs": [
        {
          "output_type": "execute_result",
          "data": {
            "text/plain": [
              "array([[1333,    0,    4,    0,    1,    0,    3,    1,    1,    0],\n",
              "       [   0, 1594,    1,    0,    1,    0,    0,    3,    0,    1],\n",
              "       [   6,   18, 1320,    2,    2,    1,    6,   16,    6,    3],\n",
              "       [   0,    4,    9, 1379,    1,    8,    2,   12,    7,   11],\n",
              "       [   3,    8,    1,    0, 1248,    0,    3,    2,    1,   29],\n",
              "       [   2,    5,    0,   13,    2, 1233,   13,    0,    2,    3],\n",
              "       [   3,    2,    0,    0,    3,    6, 1382,    0,    0,    0],\n",
              "       [   1,   21,    4,    0,    3,    0,    0, 1457,    1,   16],\n",
              "       [   4,   13,    6,   22,    2,   15,    3,   12, 1270,   10],\n",
              "       [   5,    5,    2,   11,   13,    1,    0,   14,    1, 1368]])"
            ]
          },
          "metadata": {},
          "execution_count": 104
        }
      ],
      "source": [
        "confusion_matrix(y_test,knn_predictions)"
      ]
    },
    {
      "cell_type": "markdown",
      "metadata": {
        "id": "pOIE5Axh9XfP"
      },
      "source": [
        "## SVM"
      ]
    },
    {
      "cell_type": "markdown",
      "metadata": {
        "id": "7ICzraNB9eBm"
      },
      "source": [
        "### Linear kernel"
      ]
    },
    {
      "cell_type": "markdown",
      "metadata": {
        "id": "zp9J3Hxq5uma"
      },
      "source": [
        "- With C=0.1"
      ]
    },
    {
      "cell_type": "code",
      "execution_count": null,
      "metadata": {
        "colab": {
          "base_uri": "https://localhost:8080/"
        },
        "id": "jsUSJSGS9jDL",
        "outputId": "0bcfa3ca-7ede-454a-a99c-8691195727c1"
      },
      "outputs": [
        {
          "output_type": "stream",
          "name": "stdout",
          "text": [
            "SVM Accuracy: 0.9434285714285714\n",
            "              precision    recall  f1-score   support\n",
            "\n",
            "           0       0.98      0.98      0.98      1343\n",
            "           1       0.96      0.98      0.97      1600\n",
            "           2       0.93      0.93      0.93      1380\n",
            "           3       0.92      0.93      0.92      1433\n",
            "           4       0.94      0.95      0.94      1295\n",
            "           5       0.91      0.91      0.91      1273\n",
            "           6       0.97      0.96      0.97      1396\n",
            "           7       0.95      0.96      0.95      1503\n",
            "           8       0.94      0.90      0.92      1357\n",
            "           9       0.94      0.92      0.93      1420\n",
            "\n",
            "    accuracy                           0.94     14000\n",
            "   macro avg       0.94      0.94      0.94     14000\n",
            "weighted avg       0.94      0.94      0.94     14000\n",
            "\n"
          ]
        }
      ],
      "source": [
        "svm = SVC(kernel='linear',C=0.1,random_state=42)\n",
        "svm.fit(X_train, y_train)\n",
        "svm_predictions = svm.predict(X_test)\n",
        "svm_accuracy = accuracy_score(y_test, svm_predictions)\n",
        "print('SVM Accuracy:', svm_accuracy)\n",
        "print(classification_report(y_test, svm_predictions))"
      ]
    },
    {
      "cell_type": "markdown",
      "metadata": {
        "id": "ldgkpMyQ-7nf"
      },
      "source": [
        "- Confusion Matrix"
      ]
    },
    {
      "cell_type": "code",
      "execution_count": null,
      "metadata": {
        "colab": {
          "base_uri": "https://localhost:8080/"
        },
        "id": "suQvy3CK-89I",
        "outputId": "da9157ea-a6af-4a8b-a24e-e878b2d95ad7"
      },
      "outputs": [
        {
          "output_type": "execute_result",
          "data": {
            "text/plain": [
              "array([[1318,    1,    2,    0,    3,    6,    3,    1,    7,    2],\n",
              "       [   0, 1575,    4,    7,    1,    2,    0,    4,    5,    2],\n",
              "       [   6,   10, 1289,   12,   15,    6,   12,    7,   20,    3],\n",
              "       [   2,    7,   24, 1332,    1,   33,    2,   14,   12,    6],\n",
              "       [   1,    4,    8,    1, 1230,    2,    6,    5,    3,   35],\n",
              "       [   3,   10,    6,   49,    7, 1156,   15,    2,   21,    4],\n",
              "       [   6,    1,   11,    1,    8,   21, 1346,    0,    2,    0],\n",
              "       [   2,    4,   22,    1,   10,    5,    0, 1440,    0,   19],\n",
              "       [   4,   20,   11,   40,    5,   34,    6,   10, 1219,    8],\n",
              "       [   8,   12,    7,   10,   35,    4,    0,   36,    5, 1303]])"
            ]
          },
          "metadata": {},
          "execution_count": 106
        }
      ],
      "source": [
        "confusion_matrix(y_test,svm_predictions)"
      ]
    },
    {
      "cell_type": "markdown",
      "metadata": {
        "id": "WylfYsIO5xy-"
      },
      "source": [
        "- With C=1"
      ]
    },
    {
      "cell_type": "code",
      "execution_count": null,
      "metadata": {
        "colab": {
          "base_uri": "https://localhost:8080/"
        },
        "id": "R6qzdzt_5749",
        "outputId": "81e56071-1c1a-4b2e-ba9a-8e68a7bc9c3c"
      },
      "outputs": [
        {
          "output_type": "stream",
          "name": "stdout",
          "text": [
            "SVM Accuracy: 0.9351428571428572\n",
            "              precision    recall  f1-score   support\n",
            "\n",
            "           0       0.97      0.98      0.97      1343\n",
            "           1       0.96      0.98      0.97      1600\n",
            "           2       0.91      0.92      0.92      1380\n",
            "           3       0.91      0.92      0.92      1433\n",
            "           4       0.93      0.94      0.94      1295\n",
            "           5       0.90      0.90      0.90      1273\n",
            "           6       0.97      0.95      0.96      1396\n",
            "           7       0.95      0.95      0.95      1503\n",
            "           8       0.92      0.88      0.90      1357\n",
            "           9       0.93      0.91      0.92      1420\n",
            "\n",
            "    accuracy                           0.94     14000\n",
            "   macro avg       0.93      0.93      0.93     14000\n",
            "weighted avg       0.94      0.94      0.94     14000\n",
            "\n"
          ]
        }
      ],
      "source": [
        "svm = SVC(kernel='linear',C=1,random_state=42)\n",
        "svm.fit(X_train, y_train)\n",
        "svm_predictions = svm.predict(X_test)\n",
        "svm_accuracy = accuracy_score(y_test, svm_predictions)\n",
        "print('SVM Accuracy:', svm_accuracy)\n",
        "print(classification_report(y_test, svm_predictions))"
      ]
    },
    {
      "cell_type": "markdown",
      "metadata": {
        "id": "EQ8tRJB_59MA"
      },
      "source": [
        "- Confusion Matrix"
      ]
    },
    {
      "cell_type": "code",
      "execution_count": null,
      "metadata": {
        "colab": {
          "base_uri": "https://localhost:8080/"
        },
        "id": "VPcTLTVL6AlV",
        "outputId": "4f7c5ee6-8e92-40c1-d0e7-2b661dabe89b"
      },
      "outputs": [
        {
          "output_type": "execute_result",
          "data": {
            "text/plain": [
              "array([[1310,    1,    4,    0,    3,   11,    7,    1,    5,    1],\n",
              "       [   0, 1571,    3,    8,    1,    4,    0,    5,    5,    3],\n",
              "       [   8,   16, 1273,   14,   14,    4,   12,    6,   27,    6],\n",
              "       [   8,    9,   27, 1323,    1,   31,    1,   10,   14,    9],\n",
              "       [   6,    1,   11,    0, 1219,    3,    4,    8,    5,   38],\n",
              "       [   5,   10,    5,   47,    7, 1148,   16,    3,   25,    7],\n",
              "       [   4,    4,   16,    2,   11,   26, 1330,    0,    3,    0],\n",
              "       [   2,    5,   26,    4,   13,    7,    0, 1428,    1,   17],\n",
              "       [   8,   18,   21,   48,    5,   32,    8,   10, 1195,   12],\n",
              "       [   6,   10,    8,    9,   35,    5,    0,   39,   13, 1295]])"
            ]
          },
          "metadata": {},
          "execution_count": 108
        }
      ],
      "source": [
        "confusion_matrix(y_test,svm_predictions)"
      ]
    },
    {
      "cell_type": "markdown",
      "metadata": {
        "id": "pC6B3nQY6HU4"
      },
      "source": [
        "### RBF Kernel"
      ]
    },
    {
      "cell_type": "markdown",
      "metadata": {
        "id": "3klrX-uP6J9h"
      },
      "source": [
        "- With C=0.1 and gamma=0.5"
      ]
    },
    {
      "cell_type": "code",
      "execution_count": null,
      "metadata": {
        "colab": {
          "base_uri": "https://localhost:8080/"
        },
        "id": "vM3Qaror6Mkq",
        "outputId": "6fc62ee0-b684-456c-d826-0de652b1a01a"
      },
      "outputs": [
        {
          "output_type": "stream",
          "name": "stdout",
          "text": [
            "SVM Accuracy: 0.1807857142857143\n",
            "              precision    recall  f1-score   support\n",
            "\n",
            "           0       0.00      0.00      0.00      1343\n",
            "           1       1.00      0.64      0.78      1600\n",
            "           2       0.00      0.00      0.00      1380\n",
            "           3       0.00      0.00      0.00      1433\n",
            "           4       0.00      0.00      0.00      1295\n",
            "           5       0.00      0.00      0.00      1273\n",
            "           6       0.00      0.00      0.00      1396\n",
            "           7       0.12      1.00      0.21      1503\n",
            "           8       0.00      0.00      0.00      1357\n",
            "           9       0.00      0.00      0.00      1420\n",
            "\n",
            "    accuracy                           0.18     14000\n",
            "   macro avg       0.11      0.16      0.10     14000\n",
            "weighted avg       0.13      0.18      0.11     14000\n",
            "\n"
          ]
        },
        {
          "output_type": "stream",
          "name": "stderr",
          "text": [
            "/usr/local/lib/python3.12/dist-packages/sklearn/metrics/_classification.py:1565: UndefinedMetricWarning: Precision is ill-defined and being set to 0.0 in labels with no predicted samples. Use `zero_division` parameter to control this behavior.\n",
            "  _warn_prf(average, modifier, f\"{metric.capitalize()} is\", len(result))\n",
            "/usr/local/lib/python3.12/dist-packages/sklearn/metrics/_classification.py:1565: UndefinedMetricWarning: Precision is ill-defined and being set to 0.0 in labels with no predicted samples. Use `zero_division` parameter to control this behavior.\n",
            "  _warn_prf(average, modifier, f\"{metric.capitalize()} is\", len(result))\n",
            "/usr/local/lib/python3.12/dist-packages/sklearn/metrics/_classification.py:1565: UndefinedMetricWarning: Precision is ill-defined and being set to 0.0 in labels with no predicted samples. Use `zero_division` parameter to control this behavior.\n",
            "  _warn_prf(average, modifier, f\"{metric.capitalize()} is\", len(result))\n"
          ]
        }
      ],
      "source": [
        "svm = SVC(kernel='rbf',C=0.1,gamma=0.5,random_state=42)\n",
        "svm.fit(X_train, y_train)\n",
        "svm_predictions = svm.predict(X_test)\n",
        "svm_accuracy = accuracy_score(y_test, svm_predictions)\n",
        "print('SVM Accuracy:', svm_accuracy)\n",
        "print(classification_report(y_test, svm_predictions))"
      ]
    },
    {
      "cell_type": "markdown",
      "metadata": {
        "id": "ZBGzE2UQ6WEH"
      },
      "source": [
        "- Confusion Matrix"
      ]
    },
    {
      "cell_type": "code",
      "execution_count": null,
      "metadata": {
        "colab": {
          "base_uri": "https://localhost:8080/"
        },
        "id": "pSUXgkCD6bsX",
        "outputId": "5653c0fa-7fd1-4746-95ec-cce06128513e"
      },
      "outputs": [
        {
          "output_type": "execute_result",
          "data": {
            "text/plain": [
              "array([[   0,    0,    0,    0,    0,    0,    0, 1343,    0,    0],\n",
              "       [   0, 1028,    0,    0,    0,    0,    0,  572,    0,    0],\n",
              "       [   0,    0,    0,    0,    0,    0,    0, 1380,    0,    0],\n",
              "       [   0,    0,    0,    0,    0,    0,    0, 1433,    0,    0],\n",
              "       [   0,    0,    0,    0,    0,    0,    0, 1295,    0,    0],\n",
              "       [   0,    0,    0,    0,    0,    0,    0, 1273,    0,    0],\n",
              "       [   0,    0,    0,    0,    0,    0,    0, 1396,    0,    0],\n",
              "       [   0,    0,    0,    0,    0,    0,    0, 1503,    0,    0],\n",
              "       [   0,    0,    0,    0,    0,    0,    0, 1357,    0,    0],\n",
              "       [   0,    0,    0,    0,    0,    0,    0, 1420,    0,    0]])"
            ]
          },
          "metadata": {},
          "execution_count": 110
        }
      ],
      "source": [
        "confusion_matrix(y_test,svm_predictions)"
      ]
    },
    {
      "cell_type": "markdown",
      "metadata": {
        "id": "COsFzqjK6heD"
      },
      "source": [
        "- With C=1 and gamma=0.5"
      ]
    },
    {
      "cell_type": "code",
      "execution_count": null,
      "metadata": {
        "id": "02KARXN56lV1"
      },
      "outputs": [],
      "source": [
        "svm = SVC(kernel='rbf',C=1,gamma=0.5,random_state=42)\n",
        "svm.fit(X_train, y_train)\n",
        "svm_predictions = svm.predict(X_test)\n",
        "svm_accuracy = accuracy_score(y_test, svm_predictions)\n",
        "print('SVM Accuracy:', svm_accuracy)\n",
        "print(classification_report(y_test, svm_predictions))"
      ]
    },
    {
      "cell_type": "markdown",
      "metadata": {
        "id": "CJtN131b6o1B"
      },
      "source": [
        "- Confusion Matrix"
      ]
    },
    {
      "cell_type": "code",
      "execution_count": null,
      "metadata": {
        "id": "hQsOtZk-6qrQ"
      },
      "outputs": [],
      "source": [
        "confusion_matrix(y_test,svm_predictions)"
      ]
    },
    {
      "cell_type": "markdown",
      "metadata": {
        "id": "oS1ltIKa_CTf"
      },
      "source": [
        "## MLP"
      ]
    },
    {
      "cell_type": "markdown",
      "metadata": {
        "id": "mrpEzhVC_GUH"
      },
      "source": [
        "### RELU + ADAM\n",
        "- With thirty hidden layers, 1000 maximum iteractions, activation='relu', solver='adam' and alpha=0.001"
      ]
    },
    {
      "cell_type": "code",
      "execution_count": 8,
      "metadata": {
        "id": "B1ViASl4_Dti",
        "colab": {
          "base_uri": "https://localhost:8080/"
        },
        "outputId": "1972041d-f969-4450-df8f-62a5de70ad0d"
      },
      "outputs": [
        {
          "output_type": "stream",
          "name": "stdout",
          "text": [
            "MLP Accuracy: 0.9605714285714285\n",
            "              precision    recall  f1-score   support\n",
            "\n",
            "           0       0.98      0.97      0.98      1343\n",
            "           1       0.97      0.99      0.98      1600\n",
            "           2       0.95      0.95      0.95      1380\n",
            "           3       0.96      0.95      0.95      1433\n",
            "           4       0.94      0.97      0.96      1295\n",
            "           5       0.95      0.95      0.95      1273\n",
            "           6       0.97      0.97      0.97      1396\n",
            "           7       0.96      0.97      0.96      1503\n",
            "           8       0.95      0.93      0.94      1357\n",
            "           9       0.95      0.94      0.95      1420\n",
            "\n",
            "    accuracy                           0.96     14000\n",
            "   macro avg       0.96      0.96      0.96     14000\n",
            "weighted avg       0.96      0.96      0.96     14000\n",
            "\n"
          ]
        }
      ],
      "source": [
        "mlp = MLPClassifier(hidden_layer_sizes=(30,), activation='relu', solver='adam', alpha=0.001, max_iter=1000, random_state=42)\n",
        "mlp.fit(X_train, y_train)\n",
        "mlp_predictions = mlp.predict(X_test)\n",
        "mlp_accuracy = accuracy_score(y_test, mlp_predictions)\n",
        "print('MLP Accuracy:', mlp_accuracy)\n",
        "print(classification_report(y_test, mlp_predictions))"
      ]
    },
    {
      "cell_type": "markdown",
      "metadata": {
        "id": "jLRdaOTVCwEe"
      },
      "source": [
        "- Confusion Matrix"
      ]
    },
    {
      "cell_type": "code",
      "execution_count": 9,
      "metadata": {
        "id": "sQfNw6BICySs",
        "colab": {
          "base_uri": "https://localhost:8080/"
        },
        "outputId": "cd9abd10-509b-483f-ef76-4fee2a5d0472"
      },
      "outputs": [
        {
          "output_type": "execute_result",
          "data": {
            "text/plain": [
              "array([[1307,    1,    8,    1,    2,    4,    8,    3,    6,    3],\n",
              "       [   0, 1577,    5,    4,    2,    0,    1,    5,    4,    2],\n",
              "       [   2,   10, 1317,    7,   10,    4,    4,   11,   10,    5],\n",
              "       [   1,    2,   13, 1365,    3,   18,    0,    9,   11,   11],\n",
              "       [   2,    1,    3,    2, 1254,    1,    5,    6,    2,   19],\n",
              "       [   0,    6,    3,   22,    4, 1214,    9,    3,    8,    4],\n",
              "       [   3,    2,    5,    1,   11,    9, 1361,    0,    4,    0],\n",
              "       [   4,    5,   11,    4,    9,    2,    0, 1451,    2,   15],\n",
              "       [   6,   12,   13,   15,    5,   13,    8,    7, 1268,   10],\n",
              "       [   6,    5,    2,    5,   29,    8,    0,   16,   15, 1334]])"
            ]
          },
          "metadata": {},
          "execution_count": 9
        }
      ],
      "source": [
        "confusion_matrix(y_test,mlp_predictions)"
      ]
    },
    {
      "cell_type": "markdown",
      "metadata": {
        "id": "vStu4ix4C1ik"
      },
      "source": [
        "### RELU + LBFGS\n",
        "- With thirty hidden layers, 1000 maximum iteractions, activation='relu', solver='lbfgs' and alpha=0.001"
      ]
    },
    {
      "cell_type": "code",
      "execution_count": 10,
      "metadata": {
        "id": "wUvxjuYbC5m3",
        "colab": {
          "base_uri": "https://localhost:8080/"
        },
        "outputId": "44755479-51a7-4ce8-ddd2-84d40638e06b"
      },
      "outputs": [
        {
          "output_type": "stream",
          "name": "stdout",
          "text": [
            "MLP Accuracy: 0.9546428571428571\n",
            "              precision    recall  f1-score   support\n",
            "\n",
            "           0       0.97      0.97      0.97      1343\n",
            "           1       0.98      0.98      0.98      1600\n",
            "           2       0.95      0.95      0.95      1380\n",
            "           3       0.95      0.94      0.94      1433\n",
            "           4       0.96      0.95      0.95      1295\n",
            "           5       0.94      0.94      0.94      1273\n",
            "           6       0.97      0.97      0.97      1396\n",
            "           7       0.96      0.96      0.96      1503\n",
            "           8       0.93      0.93      0.93      1357\n",
            "           9       0.93      0.94      0.94      1420\n",
            "\n",
            "    accuracy                           0.95     14000\n",
            "   macro avg       0.95      0.95      0.95     14000\n",
            "weighted avg       0.95      0.95      0.95     14000\n",
            "\n"
          ]
        }
      ],
      "source": [
        "mlp = MLPClassifier(hidden_layer_sizes=(30,), activation='relu', solver='lbfgs', alpha=0.001, max_iter=1000, random_state=42)\n",
        "mlp.fit(X_train, y_train)\n",
        "mlp_predictions = mlp.predict(X_test)\n",
        "mlp_accuracy = accuracy_score(y_test, mlp_predictions)\n",
        "print('MLP Accuracy:', mlp_accuracy)\n",
        "print(classification_report(y_test, mlp_predictions))"
      ]
    },
    {
      "cell_type": "markdown",
      "metadata": {
        "id": "krLxdtkzFwIS"
      },
      "source": [
        "- Confusion Matrix"
      ]
    },
    {
      "cell_type": "code",
      "execution_count": 11,
      "metadata": {
        "id": "QpD-Zr7ZFx16",
        "colab": {
          "base_uri": "https://localhost:8080/"
        },
        "outputId": "873e98db-0672-4f1f-939b-7c04b54b31e2"
      },
      "outputs": [
        {
          "output_type": "execute_result",
          "data": {
            "text/plain": [
              "array([[1303,    1,    5,    1,    0,    4,   10,    3,    8,    8],\n",
              "       [   0, 1573,    7,    3,    3,    1,    4,    4,    3,    2],\n",
              "       [   3,   12, 1306,    9,    7,    2,    5,   12,   18,    6],\n",
              "       [   3,    3,   17, 1346,    1,   26,    1,    7,   17,   12],\n",
              "       [   2,    1,    3,    2, 1234,    2,    7,    5,    4,   35],\n",
              "       [   2,    4,    2,   25,    4, 1200,   10,    3,   19,    4],\n",
              "       [   4,    3,    5,    0,   10,   12, 1355,    1,    6,    0],\n",
              "       [   2,    1,   16,    5,    3,    4,    0, 1442,    5,   25],\n",
              "       [  12,    7,    9,   21,    4,   16,    6,    7, 1267,    8],\n",
              "       [   6,    6,    4,    7,   26,    5,    2,   14,   11, 1339]])"
            ]
          },
          "metadata": {},
          "execution_count": 11
        }
      ],
      "source": [
        "confusion_matrix(y_test,mlp_predictions)"
      ]
    },
    {
      "cell_type": "markdown",
      "metadata": {
        "id": "bDv-MVIZmIfa"
      },
      "source": [
        "# Comparsion"
      ]
    },
    {
      "cell_type": "markdown",
      "metadata": {
        "id": "cIw6uMfTnJbV"
      },
      "source": [
        "- Accuracy comparsion"
      ]
    },
    {
      "cell_type": "code",
      "execution_count": 1,
      "metadata": {
        "id": "E8_lCdqnmLWH",
        "colab": {
          "base_uri": "https://localhost:8080/",
          "height": 537
        },
        "outputId": "bd68d215-da32-4a8c-977f-858e6dc58c73"
      },
      "outputs": [
        {
          "output_type": "display_data",
          "data": {
            "text/html": [
              "<html>\n",
              "<head><meta charset=\"utf-8\" /></head>\n",
              "<body>\n",
              "    <div>            <script src=\"https://cdnjs.cloudflare.com/ajax/libs/mathjax/2.7.5/MathJax.js?config=TeX-AMS-MML_SVG\"></script><script type=\"text/javascript\">if (window.MathJax && window.MathJax.Hub && window.MathJax.Hub.Config) {window.MathJax.Hub.Config({SVG: {font: \"STIX-Web\"}});}</script>                <script type=\"text/javascript\">window.PlotlyConfig = {MathJaxConfig: 'local'};</script>\n",
              "        <script charset=\"utf-8\" src=\"https://cdn.plot.ly/plotly-2.35.2.min.js\"></script>                <div id=\"9f74902d-118c-4670-ab90-674ce5e58dce\" class=\"plotly-graph-div\" style=\"height:500px; width:1100px;\"></div>            <script type=\"text/javascript\">                                    window.PLOTLYENV=window.PLOTLYENV || {};                                    if (document.getElementById(\"9f74902d-118c-4670-ab90-674ce5e58dce\")) {                    Plotly.newPlot(                        \"9f74902d-118c-4670-ab90-674ce5e58dce\",                        [{\"marker\":{\"color\":[\"rgb(102,194,165)\",\"rgb(252,141,98)\",\"rgb(141,160,203)\",\"rgb(231,138,195)\",\"rgb(166,216,84)\",\"rgb(255,217,47)\",\"rgb(229,196,148)\",\"rgb(179,179,179)\"]},\"showlegend\":false,\"x\":[\"KNN (n=3)\",\"KNN (n=5)\",\"SVM (Linear)\",\"MLP (10 layers)\",\"MLP (30 layers)\"],\"y\":[1.0,1.0,1.0,0.9667,0.9778],\"type\":\"bar\",\"xaxis\":\"x\",\"yaxis\":\"y\"},{\"marker\":{\"color\":[\"rgb(102,194,165)\",\"rgb(252,141,98)\",\"rgb(141,160,203)\",\"rgb(231,138,195)\",\"rgb(166,216,84)\",\"rgb(255,217,47)\",\"rgb(229,196,148)\",\"rgb(179,179,179)\"]},\"showlegend\":false,\"x\":[\"KNN (n=3)\",\"KNN (n=5)\",\"SVM (Linear)\",\"MLP (10 layers)\",\"MLP (30 layers)\"],\"y\":[0.9833,0.9861,0.9778,0.9444,0.9778],\"type\":\"bar\",\"xaxis\":\"x2\",\"yaxis\":\"y2\"},{\"marker\":{\"color\":[\"rgb(102,194,165)\",\"rgb(252,141,98)\",\"rgb(141,160,203)\",\"rgb(231,138,195)\",\"rgb(166,216,84)\",\"rgb(255,217,47)\",\"rgb(229,196,148)\",\"rgb(179,179,179)\"]},\"showlegend\":false,\"x\":[\"KNN (n=3)\",\"KNN (n=5)\",\"SVM (Linear)\",\"MLP (10 layers)\",\"MLP (30 layers)\"],\"y\":[0.9713,0.9701,0.9351,0.9307,0.9601],\"type\":\"bar\",\"xaxis\":\"x3\",\"yaxis\":\"y3\"}],                        {\"template\":{\"data\":{\"histogram2dcontour\":[{\"type\":\"histogram2dcontour\",\"colorbar\":{\"outlinewidth\":0,\"ticks\":\"\"},\"colorscale\":[[0.0,\"#0d0887\"],[0.1111111111111111,\"#46039f\"],[0.2222222222222222,\"#7201a8\"],[0.3333333333333333,\"#9c179e\"],[0.4444444444444444,\"#bd3786\"],[0.5555555555555556,\"#d8576b\"],[0.6666666666666666,\"#ed7953\"],[0.7777777777777778,\"#fb9f3a\"],[0.8888888888888888,\"#fdca26\"],[1.0,\"#f0f921\"]]}],\"choropleth\":[{\"type\":\"choropleth\",\"colorbar\":{\"outlinewidth\":0,\"ticks\":\"\"}}],\"histogram2d\":[{\"type\":\"histogram2d\",\"colorbar\":{\"outlinewidth\":0,\"ticks\":\"\"},\"colorscale\":[[0.0,\"#0d0887\"],[0.1111111111111111,\"#46039f\"],[0.2222222222222222,\"#7201a8\"],[0.3333333333333333,\"#9c179e\"],[0.4444444444444444,\"#bd3786\"],[0.5555555555555556,\"#d8576b\"],[0.6666666666666666,\"#ed7953\"],[0.7777777777777778,\"#fb9f3a\"],[0.8888888888888888,\"#fdca26\"],[1.0,\"#f0f921\"]]}],\"heatmap\":[{\"type\":\"heatmap\",\"colorbar\":{\"outlinewidth\":0,\"ticks\":\"\"},\"colorscale\":[[0.0,\"#0d0887\"],[0.1111111111111111,\"#46039f\"],[0.2222222222222222,\"#7201a8\"],[0.3333333333333333,\"#9c179e\"],[0.4444444444444444,\"#bd3786\"],[0.5555555555555556,\"#d8576b\"],[0.6666666666666666,\"#ed7953\"],[0.7777777777777778,\"#fb9f3a\"],[0.8888888888888888,\"#fdca26\"],[1.0,\"#f0f921\"]]}],\"heatmapgl\":[{\"type\":\"heatmapgl\",\"colorbar\":{\"outlinewidth\":0,\"ticks\":\"\"},\"colorscale\":[[0.0,\"#0d0887\"],[0.1111111111111111,\"#46039f\"],[0.2222222222222222,\"#7201a8\"],[0.3333333333333333,\"#9c179e\"],[0.4444444444444444,\"#bd3786\"],[0.5555555555555556,\"#d8576b\"],[0.6666666666666666,\"#ed7953\"],[0.7777777777777778,\"#fb9f3a\"],[0.8888888888888888,\"#fdca26\"],[1.0,\"#f0f921\"]]}],\"contourcarpet\":[{\"type\":\"contourcarpet\",\"colorbar\":{\"outlinewidth\":0,\"ticks\":\"\"}}],\"contour\":[{\"type\":\"contour\",\"colorbar\":{\"outlinewidth\":0,\"ticks\":\"\"},\"colorscale\":[[0.0,\"#0d0887\"],[0.1111111111111111,\"#46039f\"],[0.2222222222222222,\"#7201a8\"],[0.3333333333333333,\"#9c179e\"],[0.4444444444444444,\"#bd3786\"],[0.5555555555555556,\"#d8576b\"],[0.6666666666666666,\"#ed7953\"],[0.7777777777777778,\"#fb9f3a\"],[0.8888888888888888,\"#fdca26\"],[1.0,\"#f0f921\"]]}],\"surface\":[{\"type\":\"surface\",\"colorbar\":{\"outlinewidth\":0,\"ticks\":\"\"},\"colorscale\":[[0.0,\"#0d0887\"],[0.1111111111111111,\"#46039f\"],[0.2222222222222222,\"#7201a8\"],[0.3333333333333333,\"#9c179e\"],[0.4444444444444444,\"#bd3786\"],[0.5555555555555556,\"#d8576b\"],[0.6666666666666666,\"#ed7953\"],[0.7777777777777778,\"#fb9f3a\"],[0.8888888888888888,\"#fdca26\"],[1.0,\"#f0f921\"]]}],\"mesh3d\":[{\"type\":\"mesh3d\",\"colorbar\":{\"outlinewidth\":0,\"ticks\":\"\"}}],\"scatter\":[{\"fillpattern\":{\"fillmode\":\"overlay\",\"size\":10,\"solidity\":0.2},\"type\":\"scatter\"}],\"parcoords\":[{\"type\":\"parcoords\",\"line\":{\"colorbar\":{\"outlinewidth\":0,\"ticks\":\"\"}}}],\"scatterpolargl\":[{\"type\":\"scatterpolargl\",\"marker\":{\"colorbar\":{\"outlinewidth\":0,\"ticks\":\"\"}}}],\"bar\":[{\"error_x\":{\"color\":\"#2a3f5f\"},\"error_y\":{\"color\":\"#2a3f5f\"},\"marker\":{\"line\":{\"color\":\"#E5ECF6\",\"width\":0.5},\"pattern\":{\"fillmode\":\"overlay\",\"size\":10,\"solidity\":0.2}},\"type\":\"bar\"}],\"scattergeo\":[{\"type\":\"scattergeo\",\"marker\":{\"colorbar\":{\"outlinewidth\":0,\"ticks\":\"\"}}}],\"scatterpolar\":[{\"type\":\"scatterpolar\",\"marker\":{\"colorbar\":{\"outlinewidth\":0,\"ticks\":\"\"}}}],\"histogram\":[{\"marker\":{\"pattern\":{\"fillmode\":\"overlay\",\"size\":10,\"solidity\":0.2}},\"type\":\"histogram\"}],\"scattergl\":[{\"type\":\"scattergl\",\"marker\":{\"colorbar\":{\"outlinewidth\":0,\"ticks\":\"\"}}}],\"scatter3d\":[{\"type\":\"scatter3d\",\"line\":{\"colorbar\":{\"outlinewidth\":0,\"ticks\":\"\"}},\"marker\":{\"colorbar\":{\"outlinewidth\":0,\"ticks\":\"\"}}}],\"scattermapbox\":[{\"type\":\"scattermapbox\",\"marker\":{\"colorbar\":{\"outlinewidth\":0,\"ticks\":\"\"}}}],\"scatterternary\":[{\"type\":\"scatterternary\",\"marker\":{\"colorbar\":{\"outlinewidth\":0,\"ticks\":\"\"}}}],\"scattercarpet\":[{\"type\":\"scattercarpet\",\"marker\":{\"colorbar\":{\"outlinewidth\":0,\"ticks\":\"\"}}}],\"carpet\":[{\"aaxis\":{\"endlinecolor\":\"#2a3f5f\",\"gridcolor\":\"white\",\"linecolor\":\"white\",\"minorgridcolor\":\"white\",\"startlinecolor\":\"#2a3f5f\"},\"baxis\":{\"endlinecolor\":\"#2a3f5f\",\"gridcolor\":\"white\",\"linecolor\":\"white\",\"minorgridcolor\":\"white\",\"startlinecolor\":\"#2a3f5f\"},\"type\":\"carpet\"}],\"table\":[{\"cells\":{\"fill\":{\"color\":\"#EBF0F8\"},\"line\":{\"color\":\"white\"}},\"header\":{\"fill\":{\"color\":\"#C8D4E3\"},\"line\":{\"color\":\"white\"}},\"type\":\"table\"}],\"barpolar\":[{\"marker\":{\"line\":{\"color\":\"#E5ECF6\",\"width\":0.5},\"pattern\":{\"fillmode\":\"overlay\",\"size\":10,\"solidity\":0.2}},\"type\":\"barpolar\"}],\"pie\":[{\"automargin\":true,\"type\":\"pie\"}]},\"layout\":{\"autotypenumbers\":\"strict\",\"colorway\":[\"#636efa\",\"#EF553B\",\"#00cc96\",\"#ab63fa\",\"#FFA15A\",\"#19d3f3\",\"#FF6692\",\"#B6E880\",\"#FF97FF\",\"#FECB52\"],\"font\":{\"color\":\"#2a3f5f\"},\"hovermode\":\"closest\",\"hoverlabel\":{\"align\":\"left\"},\"paper_bgcolor\":\"white\",\"plot_bgcolor\":\"#E5ECF6\",\"polar\":{\"bgcolor\":\"#E5ECF6\",\"angularaxis\":{\"gridcolor\":\"white\",\"linecolor\":\"white\",\"ticks\":\"\"},\"radialaxis\":{\"gridcolor\":\"white\",\"linecolor\":\"white\",\"ticks\":\"\"}},\"ternary\":{\"bgcolor\":\"#E5ECF6\",\"aaxis\":{\"gridcolor\":\"white\",\"linecolor\":\"white\",\"ticks\":\"\"},\"baxis\":{\"gridcolor\":\"white\",\"linecolor\":\"white\",\"ticks\":\"\"},\"caxis\":{\"gridcolor\":\"white\",\"linecolor\":\"white\",\"ticks\":\"\"}},\"coloraxis\":{\"colorbar\":{\"outlinewidth\":0,\"ticks\":\"\"}},\"colorscale\":{\"sequential\":[[0.0,\"#0d0887\"],[0.1111111111111111,\"#46039f\"],[0.2222222222222222,\"#7201a8\"],[0.3333333333333333,\"#9c179e\"],[0.4444444444444444,\"#bd3786\"],[0.5555555555555556,\"#d8576b\"],[0.6666666666666666,\"#ed7953\"],[0.7777777777777778,\"#fb9f3a\"],[0.8888888888888888,\"#fdca26\"],[1.0,\"#f0f921\"]],\"sequentialminus\":[[0.0,\"#0d0887\"],[0.1111111111111111,\"#46039f\"],[0.2222222222222222,\"#7201a8\"],[0.3333333333333333,\"#9c179e\"],[0.4444444444444444,\"#bd3786\"],[0.5555555555555556,\"#d8576b\"],[0.6666666666666666,\"#ed7953\"],[0.7777777777777778,\"#fb9f3a\"],[0.8888888888888888,\"#fdca26\"],[1.0,\"#f0f921\"]],\"diverging\":[[0,\"#8e0152\"],[0.1,\"#c51b7d\"],[0.2,\"#de77ae\"],[0.3,\"#f1b6da\"],[0.4,\"#fde0ef\"],[0.5,\"#f7f7f7\"],[0.6,\"#e6f5d0\"],[0.7,\"#b8e186\"],[0.8,\"#7fbc41\"],[0.9,\"#4d9221\"],[1,\"#276419\"]]},\"xaxis\":{\"gridcolor\":\"white\",\"linecolor\":\"white\",\"ticks\":\"\",\"title\":{\"standoff\":15},\"zerolinecolor\":\"white\",\"automargin\":true,\"zerolinewidth\":2},\"yaxis\":{\"gridcolor\":\"white\",\"linecolor\":\"white\",\"ticks\":\"\",\"title\":{\"standoff\":15},\"zerolinecolor\":\"white\",\"automargin\":true,\"zerolinewidth\":2},\"scene\":{\"xaxis\":{\"backgroundcolor\":\"#E5ECF6\",\"gridcolor\":\"white\",\"linecolor\":\"white\",\"showbackground\":true,\"ticks\":\"\",\"zerolinecolor\":\"white\",\"gridwidth\":2},\"yaxis\":{\"backgroundcolor\":\"#E5ECF6\",\"gridcolor\":\"white\",\"linecolor\":\"white\",\"showbackground\":true,\"ticks\":\"\",\"zerolinecolor\":\"white\",\"gridwidth\":2},\"zaxis\":{\"backgroundcolor\":\"#E5ECF6\",\"gridcolor\":\"white\",\"linecolor\":\"white\",\"showbackground\":true,\"ticks\":\"\",\"zerolinecolor\":\"white\",\"gridwidth\":2}},\"shapedefaults\":{\"line\":{\"color\":\"#2a3f5f\"}},\"annotationdefaults\":{\"arrowcolor\":\"#2a3f5f\",\"arrowhead\":0,\"arrowwidth\":1},\"geo\":{\"bgcolor\":\"white\",\"landcolor\":\"#E5ECF6\",\"subunitcolor\":\"white\",\"showland\":true,\"showlakes\":true,\"lakecolor\":\"white\"},\"title\":{\"x\":0.05},\"mapbox\":{\"style\":\"light\"}}},\"xaxis\":{\"anchor\":\"y\",\"domain\":[0.0,0.2888888888888889]},\"yaxis\":{\"anchor\":\"x\",\"domain\":[0.0,1.0],\"title\":{\"text\":\"Acurácia\"},\"range\":[0.9,1.01]},\"xaxis2\":{\"anchor\":\"y2\",\"domain\":[0.35555555555555557,0.6444444444444445]},\"yaxis2\":{\"anchor\":\"x2\",\"domain\":[0.0,1.0],\"title\":{\"text\":\"Acurácia\"},\"range\":[0.9,1.01]},\"xaxis3\":{\"anchor\":\"y3\",\"domain\":[0.7111111111111111,1.0]},\"yaxis3\":{\"anchor\":\"x3\",\"domain\":[0.0,1.0],\"title\":{\"text\":\"Acurácia\"},\"range\":[0.9,1.01]},\"annotations\":[{\"font\":{\"size\":16},\"showarrow\":false,\"text\":\"Iris Dataset\",\"x\":0.14444444444444446,\"xanchor\":\"center\",\"xref\":\"paper\",\"y\":1.0,\"yanchor\":\"bottom\",\"yref\":\"paper\"},{\"font\":{\"size\":16},\"showarrow\":false,\"text\":\"Digits Dataset\",\"x\":0.5,\"xanchor\":\"center\",\"xref\":\"paper\",\"y\":1.0,\"yanchor\":\"bottom\",\"yref\":\"paper\"},{\"font\":{\"size\":16},\"showarrow\":false,\"text\":\"MNIST Dataset\",\"x\":0.8555555555555556,\"xanchor\":\"center\",\"xref\":\"paper\",\"y\":1.0,\"yanchor\":\"bottom\",\"yref\":\"paper\"}],\"title\":{\"text\":\"Comparação de Acurácia dos Modelos nos Datasets\",\"x\":0.5},\"height\":500,\"width\":1100,\"plot_bgcolor\":\"white\",\"paper_bgcolor\":\"white\"},                        {\"responsive\": true}                    ).then(function(){\n",
              "                            \n",
              "var gd = document.getElementById('9f74902d-118c-4670-ab90-674ce5e58dce');\n",
              "var x = new MutationObserver(function (mutations, observer) {{\n",
              "        var display = window.getComputedStyle(gd).display;\n",
              "        if (!display || display === 'none') {{\n",
              "            console.log([gd, 'removed!']);\n",
              "            Plotly.purge(gd);\n",
              "            observer.disconnect();\n",
              "        }}\n",
              "}});\n",
              "\n",
              "// Listen for the removal of the full notebook cells\n",
              "var notebookContainer = gd.closest('#notebook-container');\n",
              "if (notebookContainer) {{\n",
              "    x.observe(notebookContainer, {childList: true});\n",
              "}}\n",
              "\n",
              "// Listen for the clearing of the current output cell\n",
              "var outputEl = gd.closest('.output');\n",
              "if (outputEl) {{\n",
              "    x.observe(outputEl, {childList: true});\n",
              "}}\n",
              "\n",
              "                        })                };                            </script>        </div>\n",
              "</body>\n",
              "</html>"
            ]
          },
          "metadata": {}
        }
      ],
      "source": [
        "import plotly.graph_objects as go\n",
        "from plotly.subplots import make_subplots\n",
        "import plotly.express as px\n",
        "\n",
        "iris_accuracies = [1.0, 1.0, 1.0, 0.9667, 0.9778]\n",
        "iris_models = ['KNN (n=3)', 'KNN (n=5)', 'SVM (Linear)', 'MLP (10 layers)', 'MLP (30 layers)']\n",
        "\n",
        "digits_accuracies = [0.9833, 0.9861, 0.9778, 0.9444, 0.9778]\n",
        "digits_models = ['KNN (n=3)', 'KNN (n=5)', 'SVM (Linear)', 'MLP (10 layers)', 'MLP (30 layers)']\n",
        "\n",
        "mnist_accuracies = [0.9713, 0.9701, 0.9351, 0.9307, 0.9601]\n",
        "mnist_models = ['KNN (n=3)', 'KNN (n=5)', 'SVM (Linear)', 'MLP (10 layers)', 'MLP (30 layers)']\n",
        "\n",
        "colors = px.colors.qualitative.Set2\n",
        "\n",
        "fig = make_subplots(rows=1, cols=3, subplot_titles=[\n",
        "    \"Iris Dataset\",\n",
        "    \"Digits Dataset\",\n",
        "    \"MNIST Dataset\"\n",
        "])\n",
        "\n",
        "fig.add_trace(go.Bar(x=iris_models, y=iris_accuracies, marker_color=colors, showlegend=False), row=1, col=1)\n",
        "fig.add_trace(go.Bar(x=digits_models, y=digits_accuracies, marker_color=colors, showlegend=False), row=1, col=2)\n",
        "fig.add_trace(go.Bar(x=mnist_models, y=mnist_accuracies, marker_color=colors, showlegend=False), row=1, col=3)\n",
        "\n",
        "fig.update_layout(\n",
        "    height=500, width=1100,\n",
        "    title_text=\"Comparação de Acurácia dos Modelos nos Datasets\",\n",
        "    title_x=0.5,\n",
        "    plot_bgcolor=\"white\",\n",
        "    paper_bgcolor=\"white\",\n",
        ")\n",
        "\n",
        "fig.update_yaxes(range=[0.9, 1.01], title_text=\"Acurácia\")\n",
        "fig.show()\n"
      ]
    },
    {
      "cell_type": "markdown",
      "metadata": {
        "id": "OwwsSBhWnIVt"
      },
      "source": [
        "- Metrics comparsion"
      ]
    },
    {
      "cell_type": "code",
      "execution_count": 2,
      "metadata": {
        "id": "T73FRKgIn7Ht",
        "colab": {
          "base_uri": "https://localhost:8080/",
          "height": 817
        },
        "outputId": "78873725-c240-40a6-e199-ac2554ad936a"
      },
      "outputs": [
        {
          "output_type": "display_data",
          "data": {
            "text/html": [
              "<html>\n",
              "<head><meta charset=\"utf-8\" /></head>\n",
              "<body>\n",
              "    <div>            <script src=\"https://cdnjs.cloudflare.com/ajax/libs/mathjax/2.7.5/MathJax.js?config=TeX-AMS-MML_SVG\"></script><script type=\"text/javascript\">if (window.MathJax && window.MathJax.Hub && window.MathJax.Hub.Config) {window.MathJax.Hub.Config({SVG: {font: \"STIX-Web\"}});}</script>                <script type=\"text/javascript\">window.PlotlyConfig = {MathJaxConfig: 'local'};</script>\n",
              "        <script charset=\"utf-8\" src=\"https://cdn.plot.ly/plotly-2.35.2.min.js\"></script>                <div id=\"0fcf9861-6d11-4789-a9b9-683dc0a84eff\" class=\"plotly-graph-div\" style=\"height:800px; width:900px;\"></div>            <script type=\"text/javascript\">                                    window.PLOTLYENV=window.PLOTLYENV || {};                                    if (document.getElementById(\"0fcf9861-6d11-4789-a9b9-683dc0a84eff\")) {                    Plotly.newPlot(                        \"0fcf9861-6d11-4789-a9b9-683dc0a84eff\",                        [{\"alignmentgroup\":\"True\",\"hovertemplate\":\"Métrica=Accuracy\\u003cbr\\u003eDataset=Iris\\u003cbr\\u003eModel=%{x}\\u003cbr\\u003eValor=%{y}\\u003cextra\\u003e\\u003c\\u002fextra\\u003e\",\"legendgroup\":\"Accuracy\",\"marker\":{\"color\":\"rgb(102,194,165)\",\"pattern\":{\"shape\":\"\"}},\"name\":\"Accuracy\",\"offsetgroup\":\"Accuracy\",\"orientation\":\"v\",\"showlegend\":true,\"textposition\":\"auto\",\"x\":[\"KNN (n=3)\",\"KNN (n=5)\",\"SVM (Linear)\",\"MLP (10)\",\"MLP (30)\"],\"xaxis\":\"x3\",\"y\":[1.0,1.0,1.0,0.9667,0.9778],\"yaxis\":\"y3\",\"type\":\"bar\"},{\"alignmentgroup\":\"True\",\"hovertemplate\":\"Métrica=Accuracy\\u003cbr\\u003eDataset=Digits\\u003cbr\\u003eModel=%{x}\\u003cbr\\u003eValor=%{y}\\u003cextra\\u003e\\u003c\\u002fextra\\u003e\",\"legendgroup\":\"Accuracy\",\"marker\":{\"color\":\"rgb(102,194,165)\",\"pattern\":{\"shape\":\"\"}},\"name\":\"Accuracy\",\"offsetgroup\":\"Accuracy\",\"orientation\":\"v\",\"showlegend\":false,\"textposition\":\"auto\",\"x\":[\"KNN (n=3)\",\"KNN (n=5)\",\"SVM (Linear)\",\"MLP (10)\",\"MLP (30)\"],\"xaxis\":\"x2\",\"y\":[0.9833,0.9861,0.9778,0.9444,0.9778],\"yaxis\":\"y2\",\"type\":\"bar\"},{\"alignmentgroup\":\"True\",\"hovertemplate\":\"Métrica=Accuracy\\u003cbr\\u003eDataset=MNIST\\u003cbr\\u003eModel=%{x}\\u003cbr\\u003eValor=%{y}\\u003cextra\\u003e\\u003c\\u002fextra\\u003e\",\"legendgroup\":\"Accuracy\",\"marker\":{\"color\":\"rgb(102,194,165)\",\"pattern\":{\"shape\":\"\"}},\"name\":\"Accuracy\",\"offsetgroup\":\"Accuracy\",\"orientation\":\"v\",\"showlegend\":false,\"textposition\":\"auto\",\"x\":[\"KNN (n=3)\",\"KNN (n=5)\",\"SVM (Linear)\",\"MLP (10)\",\"MLP (30)\"],\"xaxis\":\"x\",\"y\":[0.9713,0.9701,0.9351,0.9307,0.9601],\"yaxis\":\"y\",\"type\":\"bar\"},{\"alignmentgroup\":\"True\",\"hovertemplate\":\"Métrica=Precision\\u003cbr\\u003eDataset=Iris\\u003cbr\\u003eModel=%{x}\\u003cbr\\u003eValor=%{y}\\u003cextra\\u003e\\u003c\\u002fextra\\u003e\",\"legendgroup\":\"Precision\",\"marker\":{\"color\":\"rgb(252,141,98)\",\"pattern\":{\"shape\":\"\"}},\"name\":\"Precision\",\"offsetgroup\":\"Precision\",\"orientation\":\"v\",\"showlegend\":true,\"textposition\":\"auto\",\"x\":[\"KNN (n=3)\",\"KNN (n=5)\",\"SVM (Linear)\",\"MLP (10)\",\"MLP (30)\"],\"xaxis\":\"x3\",\"y\":[0.99,0.99,0.98,0.95,0.96],\"yaxis\":\"y3\",\"type\":\"bar\"},{\"alignmentgroup\":\"True\",\"hovertemplate\":\"Métrica=Precision\\u003cbr\\u003eDataset=Digits\\u003cbr\\u003eModel=%{x}\\u003cbr\\u003eValor=%{y}\\u003cextra\\u003e\\u003c\\u002fextra\\u003e\",\"legendgroup\":\"Precision\",\"marker\":{\"color\":\"rgb(252,141,98)\",\"pattern\":{\"shape\":\"\"}},\"name\":\"Precision\",\"offsetgroup\":\"Precision\",\"orientation\":\"v\",\"showlegend\":false,\"textposition\":\"auto\",\"x\":[\"KNN (n=3)\",\"KNN (n=5)\",\"SVM (Linear)\",\"MLP (10)\",\"MLP (30)\"],\"xaxis\":\"x2\",\"y\":[0.98,0.985,0.975,0.94,0.975],\"yaxis\":\"y2\",\"type\":\"bar\"},{\"alignmentgroup\":\"True\",\"hovertemplate\":\"Métrica=Precision\\u003cbr\\u003eDataset=MNIST\\u003cbr\\u003eModel=%{x}\\u003cbr\\u003eValor=%{y}\\u003cextra\\u003e\\u003c\\u002fextra\\u003e\",\"legendgroup\":\"Precision\",\"marker\":{\"color\":\"rgb(252,141,98)\",\"pattern\":{\"shape\":\"\"}},\"name\":\"Precision\",\"offsetgroup\":\"Precision\",\"orientation\":\"v\",\"showlegend\":false,\"textposition\":\"auto\",\"x\":[\"KNN (n=3)\",\"KNN (n=5)\",\"SVM (Linear)\",\"MLP (10)\",\"MLP (30)\"],\"xaxis\":\"x\",\"y\":[0.97,0.968,0.93,0.92,0.958],\"yaxis\":\"y\",\"type\":\"bar\"},{\"alignmentgroup\":\"True\",\"hovertemplate\":\"Métrica=Recall\\u003cbr\\u003eDataset=Iris\\u003cbr\\u003eModel=%{x}\\u003cbr\\u003eValor=%{y}\\u003cextra\\u003e\\u003c\\u002fextra\\u003e\",\"legendgroup\":\"Recall\",\"marker\":{\"color\":\"rgb(141,160,203)\",\"pattern\":{\"shape\":\"\"}},\"name\":\"Recall\",\"offsetgroup\":\"Recall\",\"orientation\":\"v\",\"showlegend\":true,\"textposition\":\"auto\",\"x\":[\"KNN (n=3)\",\"KNN (n=5)\",\"SVM (Linear)\",\"MLP (10)\",\"MLP (30)\"],\"xaxis\":\"x3\",\"y\":[1.0,1.0,1.0,0.96,0.97],\"yaxis\":\"y3\",\"type\":\"bar\"},{\"alignmentgroup\":\"True\",\"hovertemplate\":\"Métrica=Recall\\u003cbr\\u003eDataset=Digits\\u003cbr\\u003eModel=%{x}\\u003cbr\\u003eValor=%{y}\\u003cextra\\u003e\\u003c\\u002fextra\\u003e\",\"legendgroup\":\"Recall\",\"marker\":{\"color\":\"rgb(141,160,203)\",\"pattern\":{\"shape\":\"\"}},\"name\":\"Recall\",\"offsetgroup\":\"Recall\",\"orientation\":\"v\",\"showlegend\":false,\"textposition\":\"auto\",\"x\":[\"KNN (n=3)\",\"KNN (n=5)\",\"SVM (Linear)\",\"MLP (10)\",\"MLP (30)\"],\"xaxis\":\"x2\",\"y\":[0.982,0.987,0.976,0.945,0.978],\"yaxis\":\"y2\",\"type\":\"bar\"},{\"alignmentgroup\":\"True\",\"hovertemplate\":\"Métrica=Recall\\u003cbr\\u003eDataset=MNIST\\u003cbr\\u003eModel=%{x}\\u003cbr\\u003eValor=%{y}\\u003cextra\\u003e\\u003c\\u002fextra\\u003e\",\"legendgroup\":\"Recall\",\"marker\":{\"color\":\"rgb(141,160,203)\",\"pattern\":{\"shape\":\"\"}},\"name\":\"Recall\",\"offsetgroup\":\"Recall\",\"orientation\":\"v\",\"showlegend\":false,\"textposition\":\"auto\",\"x\":[\"KNN (n=3)\",\"KNN (n=5)\",\"SVM (Linear)\",\"MLP (10)\",\"MLP (30)\"],\"xaxis\":\"x\",\"y\":[0.972,0.971,0.933,0.928,0.961],\"yaxis\":\"y\",\"type\":\"bar\"},{\"alignmentgroup\":\"True\",\"hovertemplate\":\"Métrica=F1-Score\\u003cbr\\u003eDataset=Iris\\u003cbr\\u003eModel=%{x}\\u003cbr\\u003eValor=%{y}\\u003cextra\\u003e\\u003c\\u002fextra\\u003e\",\"legendgroup\":\"F1-Score\",\"marker\":{\"color\":\"rgb(231,138,195)\",\"pattern\":{\"shape\":\"\"}},\"name\":\"F1-Score\",\"offsetgroup\":\"F1-Score\",\"orientation\":\"v\",\"showlegend\":true,\"textposition\":\"auto\",\"x\":[\"KNN (n=3)\",\"KNN (n=5)\",\"SVM (Linear)\",\"MLP (10)\",\"MLP (30)\"],\"xaxis\":\"x3\",\"y\":[0.995,0.995,0.99,0.955,0.965],\"yaxis\":\"y3\",\"type\":\"bar\"},{\"alignmentgroup\":\"True\",\"hovertemplate\":\"Métrica=F1-Score\\u003cbr\\u003eDataset=Digits\\u003cbr\\u003eModel=%{x}\\u003cbr\\u003eValor=%{y}\\u003cextra\\u003e\\u003c\\u002fextra\\u003e\",\"legendgroup\":\"F1-Score\",\"marker\":{\"color\":\"rgb(231,138,195)\",\"pattern\":{\"shape\":\"\"}},\"name\":\"F1-Score\",\"offsetgroup\":\"F1-Score\",\"orientation\":\"v\",\"showlegend\":false,\"textposition\":\"auto\",\"x\":[\"KNN (n=3)\",\"KNN (n=5)\",\"SVM (Linear)\",\"MLP (10)\",\"MLP (30)\"],\"xaxis\":\"x2\",\"y\":[0.981,0.986,0.976,0.942,0.976],\"yaxis\":\"y2\",\"type\":\"bar\"},{\"alignmentgroup\":\"True\",\"hovertemplate\":\"Métrica=F1-Score\\u003cbr\\u003eDataset=MNIST\\u003cbr\\u003eModel=%{x}\\u003cbr\\u003eValor=%{y}\\u003cextra\\u003e\\u003c\\u002fextra\\u003e\",\"legendgroup\":\"F1-Score\",\"marker\":{\"color\":\"rgb(231,138,195)\",\"pattern\":{\"shape\":\"\"}},\"name\":\"F1-Score\",\"offsetgroup\":\"F1-Score\",\"orientation\":\"v\",\"showlegend\":false,\"textposition\":\"auto\",\"x\":[\"KNN (n=3)\",\"KNN (n=5)\",\"SVM (Linear)\",\"MLP (10)\",\"MLP (30)\"],\"xaxis\":\"x\",\"y\":[0.971,0.969,0.932,0.924,0.959],\"yaxis\":\"y\",\"type\":\"bar\"}],                        {\"template\":{\"data\":{\"histogram2dcontour\":[{\"type\":\"histogram2dcontour\",\"colorbar\":{\"outlinewidth\":0,\"ticks\":\"\"},\"colorscale\":[[0.0,\"#0d0887\"],[0.1111111111111111,\"#46039f\"],[0.2222222222222222,\"#7201a8\"],[0.3333333333333333,\"#9c179e\"],[0.4444444444444444,\"#bd3786\"],[0.5555555555555556,\"#d8576b\"],[0.6666666666666666,\"#ed7953\"],[0.7777777777777778,\"#fb9f3a\"],[0.8888888888888888,\"#fdca26\"],[1.0,\"#f0f921\"]]}],\"choropleth\":[{\"type\":\"choropleth\",\"colorbar\":{\"outlinewidth\":0,\"ticks\":\"\"}}],\"histogram2d\":[{\"type\":\"histogram2d\",\"colorbar\":{\"outlinewidth\":0,\"ticks\":\"\"},\"colorscale\":[[0.0,\"#0d0887\"],[0.1111111111111111,\"#46039f\"],[0.2222222222222222,\"#7201a8\"],[0.3333333333333333,\"#9c179e\"],[0.4444444444444444,\"#bd3786\"],[0.5555555555555556,\"#d8576b\"],[0.6666666666666666,\"#ed7953\"],[0.7777777777777778,\"#fb9f3a\"],[0.8888888888888888,\"#fdca26\"],[1.0,\"#f0f921\"]]}],\"heatmap\":[{\"type\":\"heatmap\",\"colorbar\":{\"outlinewidth\":0,\"ticks\":\"\"},\"colorscale\":[[0.0,\"#0d0887\"],[0.1111111111111111,\"#46039f\"],[0.2222222222222222,\"#7201a8\"],[0.3333333333333333,\"#9c179e\"],[0.4444444444444444,\"#bd3786\"],[0.5555555555555556,\"#d8576b\"],[0.6666666666666666,\"#ed7953\"],[0.7777777777777778,\"#fb9f3a\"],[0.8888888888888888,\"#fdca26\"],[1.0,\"#f0f921\"]]}],\"heatmapgl\":[{\"type\":\"heatmapgl\",\"colorbar\":{\"outlinewidth\":0,\"ticks\":\"\"},\"colorscale\":[[0.0,\"#0d0887\"],[0.1111111111111111,\"#46039f\"],[0.2222222222222222,\"#7201a8\"],[0.3333333333333333,\"#9c179e\"],[0.4444444444444444,\"#bd3786\"],[0.5555555555555556,\"#d8576b\"],[0.6666666666666666,\"#ed7953\"],[0.7777777777777778,\"#fb9f3a\"],[0.8888888888888888,\"#fdca26\"],[1.0,\"#f0f921\"]]}],\"contourcarpet\":[{\"type\":\"contourcarpet\",\"colorbar\":{\"outlinewidth\":0,\"ticks\":\"\"}}],\"contour\":[{\"type\":\"contour\",\"colorbar\":{\"outlinewidth\":0,\"ticks\":\"\"},\"colorscale\":[[0.0,\"#0d0887\"],[0.1111111111111111,\"#46039f\"],[0.2222222222222222,\"#7201a8\"],[0.3333333333333333,\"#9c179e\"],[0.4444444444444444,\"#bd3786\"],[0.5555555555555556,\"#d8576b\"],[0.6666666666666666,\"#ed7953\"],[0.7777777777777778,\"#fb9f3a\"],[0.8888888888888888,\"#fdca26\"],[1.0,\"#f0f921\"]]}],\"surface\":[{\"type\":\"surface\",\"colorbar\":{\"outlinewidth\":0,\"ticks\":\"\"},\"colorscale\":[[0.0,\"#0d0887\"],[0.1111111111111111,\"#46039f\"],[0.2222222222222222,\"#7201a8\"],[0.3333333333333333,\"#9c179e\"],[0.4444444444444444,\"#bd3786\"],[0.5555555555555556,\"#d8576b\"],[0.6666666666666666,\"#ed7953\"],[0.7777777777777778,\"#fb9f3a\"],[0.8888888888888888,\"#fdca26\"],[1.0,\"#f0f921\"]]}],\"mesh3d\":[{\"type\":\"mesh3d\",\"colorbar\":{\"outlinewidth\":0,\"ticks\":\"\"}}],\"scatter\":[{\"fillpattern\":{\"fillmode\":\"overlay\",\"size\":10,\"solidity\":0.2},\"type\":\"scatter\"}],\"parcoords\":[{\"type\":\"parcoords\",\"line\":{\"colorbar\":{\"outlinewidth\":0,\"ticks\":\"\"}}}],\"scatterpolargl\":[{\"type\":\"scatterpolargl\",\"marker\":{\"colorbar\":{\"outlinewidth\":0,\"ticks\":\"\"}}}],\"bar\":[{\"error_x\":{\"color\":\"#2a3f5f\"},\"error_y\":{\"color\":\"#2a3f5f\"},\"marker\":{\"line\":{\"color\":\"#E5ECF6\",\"width\":0.5},\"pattern\":{\"fillmode\":\"overlay\",\"size\":10,\"solidity\":0.2}},\"type\":\"bar\"}],\"scattergeo\":[{\"type\":\"scattergeo\",\"marker\":{\"colorbar\":{\"outlinewidth\":0,\"ticks\":\"\"}}}],\"scatterpolar\":[{\"type\":\"scatterpolar\",\"marker\":{\"colorbar\":{\"outlinewidth\":0,\"ticks\":\"\"}}}],\"histogram\":[{\"marker\":{\"pattern\":{\"fillmode\":\"overlay\",\"size\":10,\"solidity\":0.2}},\"type\":\"histogram\"}],\"scattergl\":[{\"type\":\"scattergl\",\"marker\":{\"colorbar\":{\"outlinewidth\":0,\"ticks\":\"\"}}}],\"scatter3d\":[{\"type\":\"scatter3d\",\"line\":{\"colorbar\":{\"outlinewidth\":0,\"ticks\":\"\"}},\"marker\":{\"colorbar\":{\"outlinewidth\":0,\"ticks\":\"\"}}}],\"scattermapbox\":[{\"type\":\"scattermapbox\",\"marker\":{\"colorbar\":{\"outlinewidth\":0,\"ticks\":\"\"}}}],\"scatterternary\":[{\"type\":\"scatterternary\",\"marker\":{\"colorbar\":{\"outlinewidth\":0,\"ticks\":\"\"}}}],\"scattercarpet\":[{\"type\":\"scattercarpet\",\"marker\":{\"colorbar\":{\"outlinewidth\":0,\"ticks\":\"\"}}}],\"carpet\":[{\"aaxis\":{\"endlinecolor\":\"#2a3f5f\",\"gridcolor\":\"white\",\"linecolor\":\"white\",\"minorgridcolor\":\"white\",\"startlinecolor\":\"#2a3f5f\"},\"baxis\":{\"endlinecolor\":\"#2a3f5f\",\"gridcolor\":\"white\",\"linecolor\":\"white\",\"minorgridcolor\":\"white\",\"startlinecolor\":\"#2a3f5f\"},\"type\":\"carpet\"}],\"table\":[{\"cells\":{\"fill\":{\"color\":\"#EBF0F8\"},\"line\":{\"color\":\"white\"}},\"header\":{\"fill\":{\"color\":\"#C8D4E3\"},\"line\":{\"color\":\"white\"}},\"type\":\"table\"}],\"barpolar\":[{\"marker\":{\"line\":{\"color\":\"#E5ECF6\",\"width\":0.5},\"pattern\":{\"fillmode\":\"overlay\",\"size\":10,\"solidity\":0.2}},\"type\":\"barpolar\"}],\"pie\":[{\"automargin\":true,\"type\":\"pie\"}]},\"layout\":{\"autotypenumbers\":\"strict\",\"colorway\":[\"#636efa\",\"#EF553B\",\"#00cc96\",\"#ab63fa\",\"#FFA15A\",\"#19d3f3\",\"#FF6692\",\"#B6E880\",\"#FF97FF\",\"#FECB52\"],\"font\":{\"color\":\"#2a3f5f\"},\"hovermode\":\"closest\",\"hoverlabel\":{\"align\":\"left\"},\"paper_bgcolor\":\"white\",\"plot_bgcolor\":\"#E5ECF6\",\"polar\":{\"bgcolor\":\"#E5ECF6\",\"angularaxis\":{\"gridcolor\":\"white\",\"linecolor\":\"white\",\"ticks\":\"\"},\"radialaxis\":{\"gridcolor\":\"white\",\"linecolor\":\"white\",\"ticks\":\"\"}},\"ternary\":{\"bgcolor\":\"#E5ECF6\",\"aaxis\":{\"gridcolor\":\"white\",\"linecolor\":\"white\",\"ticks\":\"\"},\"baxis\":{\"gridcolor\":\"white\",\"linecolor\":\"white\",\"ticks\":\"\"},\"caxis\":{\"gridcolor\":\"white\",\"linecolor\":\"white\",\"ticks\":\"\"}},\"coloraxis\":{\"colorbar\":{\"outlinewidth\":0,\"ticks\":\"\"}},\"colorscale\":{\"sequential\":[[0.0,\"#0d0887\"],[0.1111111111111111,\"#46039f\"],[0.2222222222222222,\"#7201a8\"],[0.3333333333333333,\"#9c179e\"],[0.4444444444444444,\"#bd3786\"],[0.5555555555555556,\"#d8576b\"],[0.6666666666666666,\"#ed7953\"],[0.7777777777777778,\"#fb9f3a\"],[0.8888888888888888,\"#fdca26\"],[1.0,\"#f0f921\"]],\"sequentialminus\":[[0.0,\"#0d0887\"],[0.1111111111111111,\"#46039f\"],[0.2222222222222222,\"#7201a8\"],[0.3333333333333333,\"#9c179e\"],[0.4444444444444444,\"#bd3786\"],[0.5555555555555556,\"#d8576b\"],[0.6666666666666666,\"#ed7953\"],[0.7777777777777778,\"#fb9f3a\"],[0.8888888888888888,\"#fdca26\"],[1.0,\"#f0f921\"]],\"diverging\":[[0,\"#8e0152\"],[0.1,\"#c51b7d\"],[0.2,\"#de77ae\"],[0.3,\"#f1b6da\"],[0.4,\"#fde0ef\"],[0.5,\"#f7f7f7\"],[0.6,\"#e6f5d0\"],[0.7,\"#b8e186\"],[0.8,\"#7fbc41\"],[0.9,\"#4d9221\"],[1,\"#276419\"]]},\"xaxis\":{\"gridcolor\":\"white\",\"linecolor\":\"white\",\"ticks\":\"\",\"title\":{\"standoff\":15},\"zerolinecolor\":\"white\",\"automargin\":true,\"zerolinewidth\":2},\"yaxis\":{\"gridcolor\":\"white\",\"linecolor\":\"white\",\"ticks\":\"\",\"title\":{\"standoff\":15},\"zerolinecolor\":\"white\",\"automargin\":true,\"zerolinewidth\":2},\"scene\":{\"xaxis\":{\"backgroundcolor\":\"#E5ECF6\",\"gridcolor\":\"white\",\"linecolor\":\"white\",\"showbackground\":true,\"ticks\":\"\",\"zerolinecolor\":\"white\",\"gridwidth\":2},\"yaxis\":{\"backgroundcolor\":\"#E5ECF6\",\"gridcolor\":\"white\",\"linecolor\":\"white\",\"showbackground\":true,\"ticks\":\"\",\"zerolinecolor\":\"white\",\"gridwidth\":2},\"zaxis\":{\"backgroundcolor\":\"#E5ECF6\",\"gridcolor\":\"white\",\"linecolor\":\"white\",\"showbackground\":true,\"ticks\":\"\",\"zerolinecolor\":\"white\",\"gridwidth\":2}},\"shapedefaults\":{\"line\":{\"color\":\"#2a3f5f\"}},\"annotationdefaults\":{\"arrowcolor\":\"#2a3f5f\",\"arrowhead\":0,\"arrowwidth\":1},\"geo\":{\"bgcolor\":\"white\",\"landcolor\":\"#E5ECF6\",\"subunitcolor\":\"white\",\"showland\":true,\"showlakes\":true,\"lakecolor\":\"white\"},\"title\":{\"x\":0.05},\"mapbox\":{\"style\":\"light\"}}},\"xaxis\":{\"anchor\":\"y\",\"domain\":[0.0,1.0],\"title\":{\"text\":\"Model\"}},\"yaxis\":{\"anchor\":\"x\",\"domain\":[0.0,0.2866666666666666],\"title\":{\"text\":\"Valor\"}},\"xaxis2\":{\"anchor\":\"y2\",\"domain\":[0.0,1.0],\"matches\":\"x\",\"showticklabels\":false},\"yaxis2\":{\"anchor\":\"x2\",\"domain\":[0.35666666666666663,0.6433333333333333],\"matches\":\"y\",\"title\":{\"text\":\"Valor\"}},\"xaxis3\":{\"anchor\":\"y3\",\"domain\":[0.0,1.0],\"matches\":\"x\",\"showticklabels\":false},\"yaxis3\":{\"anchor\":\"x3\",\"domain\":[0.7133333333333333,0.9999999999999999],\"matches\":\"y\",\"title\":{\"text\":\"Valor\"}},\"annotations\":[{\"font\":{},\"showarrow\":false,\"text\":\"Dataset=MNIST\",\"x\":0.5,\"xanchor\":\"center\",\"xref\":\"paper\",\"y\":0.2866666666666666,\"yanchor\":\"bottom\",\"yref\":\"paper\"},{\"font\":{},\"showarrow\":false,\"text\":\"Dataset=Digits\",\"x\":0.5,\"xanchor\":\"center\",\"xref\":\"paper\",\"y\":0.6433333333333333,\"yanchor\":\"bottom\",\"yref\":\"paper\"},{\"font\":{},\"showarrow\":false,\"text\":\"Dataset=Iris\",\"x\":0.5,\"xanchor\":\"center\",\"xref\":\"paper\",\"y\":0.9999999999999999,\"yanchor\":\"bottom\",\"yref\":\"paper\"}],\"legend\":{\"title\":{\"text\":\"Métrica\"},\"tracegroupgap\":0},\"title\":{\"text\":\"Comparação de Métricas por Modelo e Dataset\",\"x\":0.5},\"barmode\":\"group\",\"height\":800,\"width\":900,\"plot_bgcolor\":\"white\",\"paper_bgcolor\":\"white\"},                        {\"responsive\": true}                    ).then(function(){\n",
              "                            \n",
              "var gd = document.getElementById('0fcf9861-6d11-4789-a9b9-683dc0a84eff');\n",
              "var x = new MutationObserver(function (mutations, observer) {{\n",
              "        var display = window.getComputedStyle(gd).display;\n",
              "        if (!display || display === 'none') {{\n",
              "            console.log([gd, 'removed!']);\n",
              "            Plotly.purge(gd);\n",
              "            observer.disconnect();\n",
              "        }}\n",
              "}});\n",
              "\n",
              "// Listen for the removal of the full notebook cells\n",
              "var notebookContainer = gd.closest('#notebook-container');\n",
              "if (notebookContainer) {{\n",
              "    x.observe(notebookContainer, {childList: true});\n",
              "}}\n",
              "\n",
              "// Listen for the clearing of the current output cell\n",
              "var outputEl = gd.closest('.output');\n",
              "if (outputEl) {{\n",
              "    x.observe(outputEl, {childList: true});\n",
              "}}\n",
              "\n",
              "                        })                };                            </script>        </div>\n",
              "</body>\n",
              "</html>"
            ]
          },
          "metadata": {}
        }
      ],
      "source": [
        "import plotly.express as px\n",
        "import pandas as pd\n",
        "\n",
        "data = {\n",
        "    \"Dataset\": [\"Iris\"]*5 + [\"Digits\"]*5 + [\"MNIST\"]*5,\n",
        "    \"Model\": [\"KNN (n=3)\", \"KNN (n=5)\", \"SVM (Linear)\", \"MLP (10)\", \"MLP (30)\"]*3,\n",
        "    \"Accuracy\": [1.0, 1.0, 1.0, 0.9667, 0.9778,   0.9833, 0.9861, 0.9778, 0.9444, 0.9778,   0.9713, 0.9701, 0.9351, 0.9307, 0.9601],\n",
        "    \"Precision\": [0.99, 0.99, 0.98, 0.95, 0.96,   0.98, 0.985, 0.975, 0.94, 0.975,   0.97, 0.968, 0.93, 0.92, 0.958],\n",
        "    \"Recall\": [1.0, 1.0, 1.0, 0.96, 0.97,   0.982, 0.987, 0.976, 0.945, 0.978,   0.972, 0.971, 0.933, 0.928, 0.961],\n",
        "    \"F1-Score\": [0.995, 0.995, 0.99, 0.955, 0.965,   0.981, 0.986, 0.976, 0.942, 0.976,   0.971, 0.969, 0.932, 0.924, 0.959]\n",
        "}\n",
        "\n",
        "df = pd.DataFrame(data)\n",
        "\n",
        "df_long = df.melt(id_vars=[\"Dataset\", \"Model\"],\n",
        "                  value_vars=[\"Accuracy\", \"Precision\", \"Recall\", \"F1-Score\"],\n",
        "                  var_name=\"Métrica\", value_name=\"Valor\")\n",
        "\n",
        "fig = px.bar(\n",
        "    df_long,\n",
        "    x=\"Model\", y=\"Valor\", color=\"Métrica\", barmode=\"group\",\n",
        "    facet_col=\"Dataset\", facet_col_wrap=1,\n",
        "    title=\"Comparação de Métricas por Modelo e Dataset\",\n",
        "    color_discrete_sequence=px.colors.qualitative.Set2\n",
        ")\n",
        "\n",
        "fig.update_layout(\n",
        "    height=800, width=900,\n",
        "    plot_bgcolor=\"white\", paper_bgcolor=\"white\",\n",
        "    title_x=0.5\n",
        ")\n",
        "\n",
        "fig.show()\n"
      ]
    }
  ],
  "metadata": {
    "accelerator": "GPU",
    "colab": {
      "collapsed_sections": [
        "oS1ltIKa_CTf"
      ],
      "gpuType": "T4",
      "provenance": [],
      "toc_visible": true
    },
    "kernelspec": {
      "display_name": "Python 3",
      "name": "python3"
    },
    "language_info": {
      "name": "python"
    }
  },
  "nbformat": 4,
  "nbformat_minor": 0
}